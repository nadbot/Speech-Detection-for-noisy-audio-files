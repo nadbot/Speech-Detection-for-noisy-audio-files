{
 "nbformat": 4,
 "nbformat_minor": 0,
 "metadata": {
  "colab": {
   "name": "Wav2vec.ipynb",
   "provenance": [],
   "collapsed_sections": []
  },
  "kernelspec": {
   "name": "python3",
   "display_name": "Python 3"
  },
  "language_info": {
   "name": "python"
  },
  "accelerator": "GPU",
  "widgets": {
   "application/vnd.jupyter.widget-state+json": {
    "3f8d46a1cc56435aa62022516e12fda3": {
     "model_module": "@jupyter-widgets/controls",
     "model_name": "HBoxModel",
     "model_module_version": "1.5.0",
     "state": {
      "_view_name": "HBoxView",
      "_dom_classes": [],
      "_model_name": "HBoxModel",
      "_view_module": "@jupyter-widgets/controls",
      "_model_module_version": "1.5.0",
      "_view_count": null,
      "_view_module_version": "1.5.0",
      "box_style": "",
      "layout": "IPY_MODEL_9eaa77db68f04adb83e2080b071edd3f",
      "_model_module": "@jupyter-widgets/controls",
      "children": [
       "IPY_MODEL_f2b6e804817a472eab1b1ae90fc34154",
       "IPY_MODEL_ab11c3a8b7854703a69ee0aedb4371c3",
       "IPY_MODEL_a6bf55b00deb495199adebce7dcf29ab"
      ]
     }
    },
    "9eaa77db68f04adb83e2080b071edd3f": {
     "model_module": "@jupyter-widgets/base",
     "model_name": "LayoutModel",
     "model_module_version": "1.2.0",
     "state": {
      "_view_name": "LayoutView",
      "grid_template_rows": null,
      "right": null,
      "justify_content": null,
      "_view_module": "@jupyter-widgets/base",
      "overflow": null,
      "_model_module_version": "1.2.0",
      "_view_count": null,
      "flex_flow": null,
      "width": null,
      "min_width": null,
      "border": null,
      "align_items": null,
      "bottom": null,
      "_model_module": "@jupyter-widgets/base",
      "top": null,
      "grid_column": null,
      "overflow_y": null,
      "overflow_x": null,
      "grid_auto_flow": null,
      "grid_area": null,
      "grid_template_columns": null,
      "flex": null,
      "_model_name": "LayoutModel",
      "justify_items": null,
      "grid_row": null,
      "max_height": null,
      "align_content": null,
      "visibility": null,
      "align_self": null,
      "height": null,
      "min_height": null,
      "padding": null,
      "grid_auto_rows": null,
      "grid_gap": null,
      "max_width": null,
      "order": null,
      "_view_module_version": "1.2.0",
      "grid_template_areas": null,
      "object_position": null,
      "object_fit": null,
      "grid_auto_columns": null,
      "margin": null,
      "display": null,
      "left": null
     }
    },
    "f2b6e804817a472eab1b1ae90fc34154": {
     "model_module": "@jupyter-widgets/controls",
     "model_name": "HTMLModel",
     "model_module_version": "1.5.0",
     "state": {
      "_view_name": "HTMLView",
      "style": "IPY_MODEL_ef52ad35f32246b6a32421f672fe4969",
      "_dom_classes": [],
      "description": "",
      "_model_name": "HTMLModel",
      "placeholder": "​",
      "_view_module": "@jupyter-widgets/controls",
      "_model_module_version": "1.5.0",
      "value": "Downloading: 100%",
      "_view_count": null,
      "_view_module_version": "1.5.0",
      "description_tooltip": null,
      "_model_module": "@jupyter-widgets/controls",
      "layout": "IPY_MODEL_be1fb2ca32cb4bb8b07c9a08d68bd21d"
     }
    },
    "ab11c3a8b7854703a69ee0aedb4371c3": {
     "model_module": "@jupyter-widgets/controls",
     "model_name": "FloatProgressModel",
     "model_module_version": "1.5.0",
     "state": {
      "_view_name": "ProgressView",
      "style": "IPY_MODEL_a14c331108124993a7f5a6c10b1e1be8",
      "_dom_classes": [],
      "description": "",
      "_model_name": "FloatProgressModel",
      "bar_style": "success",
      "max": 159,
      "_view_module": "@jupyter-widgets/controls",
      "_model_module_version": "1.5.0",
      "value": 159,
      "_view_count": null,
      "_view_module_version": "1.5.0",
      "orientation": "horizontal",
      "min": 0,
      "description_tooltip": null,
      "_model_module": "@jupyter-widgets/controls",
      "layout": "IPY_MODEL_6308cf05941c49bb90120124acbb9163"
     }
    },
    "a6bf55b00deb495199adebce7dcf29ab": {
     "model_module": "@jupyter-widgets/controls",
     "model_name": "HTMLModel",
     "model_module_version": "1.5.0",
     "state": {
      "_view_name": "HTMLView",
      "style": "IPY_MODEL_a8f6fd6591424b82a4d52998947bd8a0",
      "_dom_classes": [],
      "description": "",
      "_model_name": "HTMLModel",
      "placeholder": "​",
      "_view_module": "@jupyter-widgets/controls",
      "_model_module_version": "1.5.0",
      "value": " 159/159 [00:00&lt;00:00, 4.98kB/s]",
      "_view_count": null,
      "_view_module_version": "1.5.0",
      "description_tooltip": null,
      "_model_module": "@jupyter-widgets/controls",
      "layout": "IPY_MODEL_599fb13451ba4ee5a7330c70ec95d6d5"
     }
    },
    "ef52ad35f32246b6a32421f672fe4969": {
     "model_module": "@jupyter-widgets/controls",
     "model_name": "DescriptionStyleModel",
     "model_module_version": "1.5.0",
     "state": {
      "_view_name": "StyleView",
      "_model_name": "DescriptionStyleModel",
      "description_width": "",
      "_view_module": "@jupyter-widgets/base",
      "_model_module_version": "1.5.0",
      "_view_count": null,
      "_view_module_version": "1.2.0",
      "_model_module": "@jupyter-widgets/controls"
     }
    },
    "be1fb2ca32cb4bb8b07c9a08d68bd21d": {
     "model_module": "@jupyter-widgets/base",
     "model_name": "LayoutModel",
     "model_module_version": "1.2.0",
     "state": {
      "_view_name": "LayoutView",
      "grid_template_rows": null,
      "right": null,
      "justify_content": null,
      "_view_module": "@jupyter-widgets/base",
      "overflow": null,
      "_model_module_version": "1.2.0",
      "_view_count": null,
      "flex_flow": null,
      "width": null,
      "min_width": null,
      "border": null,
      "align_items": null,
      "bottom": null,
      "_model_module": "@jupyter-widgets/base",
      "top": null,
      "grid_column": null,
      "overflow_y": null,
      "overflow_x": null,
      "grid_auto_flow": null,
      "grid_area": null,
      "grid_template_columns": null,
      "flex": null,
      "_model_name": "LayoutModel",
      "justify_items": null,
      "grid_row": null,
      "max_height": null,
      "align_content": null,
      "visibility": null,
      "align_self": null,
      "height": null,
      "min_height": null,
      "padding": null,
      "grid_auto_rows": null,
      "grid_gap": null,
      "max_width": null,
      "order": null,
      "_view_module_version": "1.2.0",
      "grid_template_areas": null,
      "object_position": null,
      "object_fit": null,
      "grid_auto_columns": null,
      "margin": null,
      "display": null,
      "left": null
     }
    },
    "a14c331108124993a7f5a6c10b1e1be8": {
     "model_module": "@jupyter-widgets/controls",
     "model_name": "ProgressStyleModel",
     "model_module_version": "1.5.0",
     "state": {
      "_view_name": "StyleView",
      "_model_name": "ProgressStyleModel",
      "description_width": "",
      "_view_module": "@jupyter-widgets/base",
      "_model_module_version": "1.5.0",
      "_view_count": null,
      "_view_module_version": "1.2.0",
      "bar_color": null,
      "_model_module": "@jupyter-widgets/controls"
     }
    },
    "6308cf05941c49bb90120124acbb9163": {
     "model_module": "@jupyter-widgets/base",
     "model_name": "LayoutModel",
     "model_module_version": "1.2.0",
     "state": {
      "_view_name": "LayoutView",
      "grid_template_rows": null,
      "right": null,
      "justify_content": null,
      "_view_module": "@jupyter-widgets/base",
      "overflow": null,
      "_model_module_version": "1.2.0",
      "_view_count": null,
      "flex_flow": null,
      "width": null,
      "min_width": null,
      "border": null,
      "align_items": null,
      "bottom": null,
      "_model_module": "@jupyter-widgets/base",
      "top": null,
      "grid_column": null,
      "overflow_y": null,
      "overflow_x": null,
      "grid_auto_flow": null,
      "grid_area": null,
      "grid_template_columns": null,
      "flex": null,
      "_model_name": "LayoutModel",
      "justify_items": null,
      "grid_row": null,
      "max_height": null,
      "align_content": null,
      "visibility": null,
      "align_self": null,
      "height": null,
      "min_height": null,
      "padding": null,
      "grid_auto_rows": null,
      "grid_gap": null,
      "max_width": null,
      "order": null,
      "_view_module_version": "1.2.0",
      "grid_template_areas": null,
      "object_position": null,
      "object_fit": null,
      "grid_auto_columns": null,
      "margin": null,
      "display": null,
      "left": null
     }
    },
    "a8f6fd6591424b82a4d52998947bd8a0": {
     "model_module": "@jupyter-widgets/controls",
     "model_name": "DescriptionStyleModel",
     "model_module_version": "1.5.0",
     "state": {
      "_view_name": "StyleView",
      "_model_name": "DescriptionStyleModel",
      "description_width": "",
      "_view_module": "@jupyter-widgets/base",
      "_model_module_version": "1.5.0",
      "_view_count": null,
      "_view_module_version": "1.2.0",
      "_model_module": "@jupyter-widgets/controls"
     }
    },
    "599fb13451ba4ee5a7330c70ec95d6d5": {
     "model_module": "@jupyter-widgets/base",
     "model_name": "LayoutModel",
     "model_module_version": "1.2.0",
     "state": {
      "_view_name": "LayoutView",
      "grid_template_rows": null,
      "right": null,
      "justify_content": null,
      "_view_module": "@jupyter-widgets/base",
      "overflow": null,
      "_model_module_version": "1.2.0",
      "_view_count": null,
      "flex_flow": null,
      "width": null,
      "min_width": null,
      "border": null,
      "align_items": null,
      "bottom": null,
      "_model_module": "@jupyter-widgets/base",
      "top": null,
      "grid_column": null,
      "overflow_y": null,
      "overflow_x": null,
      "grid_auto_flow": null,
      "grid_area": null,
      "grid_template_columns": null,
      "flex": null,
      "_model_name": "LayoutModel",
      "justify_items": null,
      "grid_row": null,
      "max_height": null,
      "align_content": null,
      "visibility": null,
      "align_self": null,
      "height": null,
      "min_height": null,
      "padding": null,
      "grid_auto_rows": null,
      "grid_gap": null,
      "max_width": null,
      "order": null,
      "_view_module_version": "1.2.0",
      "grid_template_areas": null,
      "object_position": null,
      "object_fit": null,
      "grid_auto_columns": null,
      "margin": null,
      "display": null,
      "left": null
     }
    },
    "6d2f5fe2e8bd4182829e3669a6eaea9a": {
     "model_module": "@jupyter-widgets/controls",
     "model_name": "HBoxModel",
     "model_module_version": "1.5.0",
     "state": {
      "_view_name": "HBoxView",
      "_dom_classes": [],
      "_model_name": "HBoxModel",
      "_view_module": "@jupyter-widgets/controls",
      "_model_module_version": "1.5.0",
      "_view_count": null,
      "_view_module_version": "1.5.0",
      "box_style": "",
      "layout": "IPY_MODEL_934ff0caa68a44e3b71ed037b75c1252",
      "_model_module": "@jupyter-widgets/controls",
      "children": [
       "IPY_MODEL_3abac7283161489bb84f58d64873685d",
       "IPY_MODEL_51341af1648d4656a1a2e5c59378654d",
       "IPY_MODEL_73da663473c048d0b3d8dadc296b99f8"
      ]
     }
    },
    "934ff0caa68a44e3b71ed037b75c1252": {
     "model_module": "@jupyter-widgets/base",
     "model_name": "LayoutModel",
     "model_module_version": "1.2.0",
     "state": {
      "_view_name": "LayoutView",
      "grid_template_rows": null,
      "right": null,
      "justify_content": null,
      "_view_module": "@jupyter-widgets/base",
      "overflow": null,
      "_model_module_version": "1.2.0",
      "_view_count": null,
      "flex_flow": null,
      "width": null,
      "min_width": null,
      "border": null,
      "align_items": null,
      "bottom": null,
      "_model_module": "@jupyter-widgets/base",
      "top": null,
      "grid_column": null,
      "overflow_y": null,
      "overflow_x": null,
      "grid_auto_flow": null,
      "grid_area": null,
      "grid_template_columns": null,
      "flex": null,
      "_model_name": "LayoutModel",
      "justify_items": null,
      "grid_row": null,
      "max_height": null,
      "align_content": null,
      "visibility": null,
      "align_self": null,
      "height": null,
      "min_height": null,
      "padding": null,
      "grid_auto_rows": null,
      "grid_gap": null,
      "max_width": null,
      "order": null,
      "_view_module_version": "1.2.0",
      "grid_template_areas": null,
      "object_position": null,
      "object_fit": null,
      "grid_auto_columns": null,
      "margin": null,
      "display": null,
      "left": null
     }
    },
    "3abac7283161489bb84f58d64873685d": {
     "model_module": "@jupyter-widgets/controls",
     "model_name": "HTMLModel",
     "model_module_version": "1.5.0",
     "state": {
      "_view_name": "HTMLView",
      "style": "IPY_MODEL_606a457906304c87a8469e32ff52f8a2",
      "_dom_classes": [],
      "description": "",
      "_model_name": "HTMLModel",
      "placeholder": "​",
      "_view_module": "@jupyter-widgets/controls",
      "_model_module_version": "1.5.0",
      "value": "Downloading: 100%",
      "_view_count": null,
      "_view_module_version": "1.5.0",
      "description_tooltip": null,
      "_model_module": "@jupyter-widgets/controls",
      "layout": "IPY_MODEL_797a8fe33e6743098bf76d3bbacf82b1"
     }
    },
    "51341af1648d4656a1a2e5c59378654d": {
     "model_module": "@jupyter-widgets/controls",
     "model_name": "FloatProgressModel",
     "model_module_version": "1.5.0",
     "state": {
      "_view_name": "ProgressView",
      "style": "IPY_MODEL_269990963b674f168a322768c0b58c54",
      "_dom_classes": [],
      "description": "",
      "_model_name": "FloatProgressModel",
      "bar_style": "success",
      "max": 1596,
      "_view_module": "@jupyter-widgets/controls",
      "_model_module_version": "1.5.0",
      "value": 1596,
      "_view_count": null,
      "_view_module_version": "1.5.0",
      "orientation": "horizontal",
      "min": 0,
      "description_tooltip": null,
      "_model_module": "@jupyter-widgets/controls",
      "layout": "IPY_MODEL_49d653a8085b463187a7b84d24d0f31d"
     }
    },
    "73da663473c048d0b3d8dadc296b99f8": {
     "model_module": "@jupyter-widgets/controls",
     "model_name": "HTMLModel",
     "model_module_version": "1.5.0",
     "state": {
      "_view_name": "HTMLView",
      "style": "IPY_MODEL_8d1313f0a2c840b2b0cb309793decc21",
      "_dom_classes": [],
      "description": "",
      "_model_name": "HTMLModel",
      "placeholder": "​",
      "_view_module": "@jupyter-widgets/controls",
      "_model_module_version": "1.5.0",
      "value": " 1.56k/1.56k [00:00&lt;00:00, 48.8kB/s]",
      "_view_count": null,
      "_view_module_version": "1.5.0",
      "description_tooltip": null,
      "_model_module": "@jupyter-widgets/controls",
      "layout": "IPY_MODEL_b05c6b5f86e54a11bac5ca8134c9538d"
     }
    },
    "606a457906304c87a8469e32ff52f8a2": {
     "model_module": "@jupyter-widgets/controls",
     "model_name": "DescriptionStyleModel",
     "model_module_version": "1.5.0",
     "state": {
      "_view_name": "StyleView",
      "_model_name": "DescriptionStyleModel",
      "description_width": "",
      "_view_module": "@jupyter-widgets/base",
      "_model_module_version": "1.5.0",
      "_view_count": null,
      "_view_module_version": "1.2.0",
      "_model_module": "@jupyter-widgets/controls"
     }
    },
    "797a8fe33e6743098bf76d3bbacf82b1": {
     "model_module": "@jupyter-widgets/base",
     "model_name": "LayoutModel",
     "model_module_version": "1.2.0",
     "state": {
      "_view_name": "LayoutView",
      "grid_template_rows": null,
      "right": null,
      "justify_content": null,
      "_view_module": "@jupyter-widgets/base",
      "overflow": null,
      "_model_module_version": "1.2.0",
      "_view_count": null,
      "flex_flow": null,
      "width": null,
      "min_width": null,
      "border": null,
      "align_items": null,
      "bottom": null,
      "_model_module": "@jupyter-widgets/base",
      "top": null,
      "grid_column": null,
      "overflow_y": null,
      "overflow_x": null,
      "grid_auto_flow": null,
      "grid_area": null,
      "grid_template_columns": null,
      "flex": null,
      "_model_name": "LayoutModel",
      "justify_items": null,
      "grid_row": null,
      "max_height": null,
      "align_content": null,
      "visibility": null,
      "align_self": null,
      "height": null,
      "min_height": null,
      "padding": null,
      "grid_auto_rows": null,
      "grid_gap": null,
      "max_width": null,
      "order": null,
      "_view_module_version": "1.2.0",
      "grid_template_areas": null,
      "object_position": null,
      "object_fit": null,
      "grid_auto_columns": null,
      "margin": null,
      "display": null,
      "left": null
     }
    },
    "269990963b674f168a322768c0b58c54": {
     "model_module": "@jupyter-widgets/controls",
     "model_name": "ProgressStyleModel",
     "model_module_version": "1.5.0",
     "state": {
      "_view_name": "StyleView",
      "_model_name": "ProgressStyleModel",
      "description_width": "",
      "_view_module": "@jupyter-widgets/base",
      "_model_module_version": "1.5.0",
      "_view_count": null,
      "_view_module_version": "1.2.0",
      "bar_color": null,
      "_model_module": "@jupyter-widgets/controls"
     }
    },
    "49d653a8085b463187a7b84d24d0f31d": {
     "model_module": "@jupyter-widgets/base",
     "model_name": "LayoutModel",
     "model_module_version": "1.2.0",
     "state": {
      "_view_name": "LayoutView",
      "grid_template_rows": null,
      "right": null,
      "justify_content": null,
      "_view_module": "@jupyter-widgets/base",
      "overflow": null,
      "_model_module_version": "1.2.0",
      "_view_count": null,
      "flex_flow": null,
      "width": null,
      "min_width": null,
      "border": null,
      "align_items": null,
      "bottom": null,
      "_model_module": "@jupyter-widgets/base",
      "top": null,
      "grid_column": null,
      "overflow_y": null,
      "overflow_x": null,
      "grid_auto_flow": null,
      "grid_area": null,
      "grid_template_columns": null,
      "flex": null,
      "_model_name": "LayoutModel",
      "justify_items": null,
      "grid_row": null,
      "max_height": null,
      "align_content": null,
      "visibility": null,
      "align_self": null,
      "height": null,
      "min_height": null,
      "padding": null,
      "grid_auto_rows": null,
      "grid_gap": null,
      "max_width": null,
      "order": null,
      "_view_module_version": "1.2.0",
      "grid_template_areas": null,
      "object_position": null,
      "object_fit": null,
      "grid_auto_columns": null,
      "margin": null,
      "display": null,
      "left": null
     }
    },
    "8d1313f0a2c840b2b0cb309793decc21": {
     "model_module": "@jupyter-widgets/controls",
     "model_name": "DescriptionStyleModel",
     "model_module_version": "1.5.0",
     "state": {
      "_view_name": "StyleView",
      "_model_name": "DescriptionStyleModel",
      "description_width": "",
      "_view_module": "@jupyter-widgets/base",
      "_model_module_version": "1.5.0",
      "_view_count": null,
      "_view_module_version": "1.2.0",
      "_model_module": "@jupyter-widgets/controls"
     }
    },
    "b05c6b5f86e54a11bac5ca8134c9538d": {
     "model_module": "@jupyter-widgets/base",
     "model_name": "LayoutModel",
     "model_module_version": "1.2.0",
     "state": {
      "_view_name": "LayoutView",
      "grid_template_rows": null,
      "right": null,
      "justify_content": null,
      "_view_module": "@jupyter-widgets/base",
      "overflow": null,
      "_model_module_version": "1.2.0",
      "_view_count": null,
      "flex_flow": null,
      "width": null,
      "min_width": null,
      "border": null,
      "align_items": null,
      "bottom": null,
      "_model_module": "@jupyter-widgets/base",
      "top": null,
      "grid_column": null,
      "overflow_y": null,
      "overflow_x": null,
      "grid_auto_flow": null,
      "grid_area": null,
      "grid_template_columns": null,
      "flex": null,
      "_model_name": "LayoutModel",
      "justify_items": null,
      "grid_row": null,
      "max_height": null,
      "align_content": null,
      "visibility": null,
      "align_self": null,
      "height": null,
      "min_height": null,
      "padding": null,
      "grid_auto_rows": null,
      "grid_gap": null,
      "max_width": null,
      "order": null,
      "_view_module_version": "1.2.0",
      "grid_template_areas": null,
      "object_position": null,
      "object_fit": null,
      "grid_auto_columns": null,
      "margin": null,
      "display": null,
      "left": null
     }
    },
    "818200c13443426799dd9c2f6af79fbc": {
     "model_module": "@jupyter-widgets/controls",
     "model_name": "HBoxModel",
     "model_module_version": "1.5.0",
     "state": {
      "_view_name": "HBoxView",
      "_dom_classes": [],
      "_model_name": "HBoxModel",
      "_view_module": "@jupyter-widgets/controls",
      "_model_module_version": "1.5.0",
      "_view_count": null,
      "_view_module_version": "1.5.0",
      "box_style": "",
      "layout": "IPY_MODEL_a6ab81d0af6442459fe385850e174c44",
      "_model_module": "@jupyter-widgets/controls",
      "children": [
       "IPY_MODEL_4c42b8e0899a465ab455cfb14f2b20e2",
       "IPY_MODEL_1dfa2c86ae724ea092a11c2ae8789c3e",
       "IPY_MODEL_d7205548bf534797b30294f9d7813989"
      ]
     }
    },
    "a6ab81d0af6442459fe385850e174c44": {
     "model_module": "@jupyter-widgets/base",
     "model_name": "LayoutModel",
     "model_module_version": "1.2.0",
     "state": {
      "_view_name": "LayoutView",
      "grid_template_rows": null,
      "right": null,
      "justify_content": null,
      "_view_module": "@jupyter-widgets/base",
      "overflow": null,
      "_model_module_version": "1.2.0",
      "_view_count": null,
      "flex_flow": null,
      "width": null,
      "min_width": null,
      "border": null,
      "align_items": null,
      "bottom": null,
      "_model_module": "@jupyter-widgets/base",
      "top": null,
      "grid_column": null,
      "overflow_y": null,
      "overflow_x": null,
      "grid_auto_flow": null,
      "grid_area": null,
      "grid_template_columns": null,
      "flex": null,
      "_model_name": "LayoutModel",
      "justify_items": null,
      "grid_row": null,
      "max_height": null,
      "align_content": null,
      "visibility": null,
      "align_self": null,
      "height": null,
      "min_height": null,
      "padding": null,
      "grid_auto_rows": null,
      "grid_gap": null,
      "max_width": null,
      "order": null,
      "_view_module_version": "1.2.0",
      "grid_template_areas": null,
      "object_position": null,
      "object_fit": null,
      "grid_auto_columns": null,
      "margin": null,
      "display": null,
      "left": null
     }
    },
    "4c42b8e0899a465ab455cfb14f2b20e2": {
     "model_module": "@jupyter-widgets/controls",
     "model_name": "HTMLModel",
     "model_module_version": "1.5.0",
     "state": {
      "_view_name": "HTMLView",
      "style": "IPY_MODEL_3e0c68aa51eb4b9cb945f6745911d0df",
      "_dom_classes": [],
      "description": "",
      "_model_name": "HTMLModel",
      "placeholder": "​",
      "_view_module": "@jupyter-widgets/controls",
      "_model_module_version": "1.5.0",
      "value": "Downloading: 100%",
      "_view_count": null,
      "_view_module_version": "1.5.0",
      "description_tooltip": null,
      "_model_module": "@jupyter-widgets/controls",
      "layout": "IPY_MODEL_7dfebc3155074c34834acb6690b62019"
     }
    },
    "1dfa2c86ae724ea092a11c2ae8789c3e": {
     "model_module": "@jupyter-widgets/controls",
     "model_name": "FloatProgressModel",
     "model_module_version": "1.5.0",
     "state": {
      "_view_name": "ProgressView",
      "style": "IPY_MODEL_0d34d068766640cb9535d2c857c29b7a",
      "_dom_classes": [],
      "description": "",
      "_model_name": "FloatProgressModel",
      "bar_style": "success",
      "max": 163,
      "_view_module": "@jupyter-widgets/controls",
      "_model_module_version": "1.5.0",
      "value": 163,
      "_view_count": null,
      "_view_module_version": "1.5.0",
      "orientation": "horizontal",
      "min": 0,
      "description_tooltip": null,
      "_model_module": "@jupyter-widgets/controls",
      "layout": "IPY_MODEL_94b53a5f10ca40218f687c4d31ec71a7"
     }
    },
    "d7205548bf534797b30294f9d7813989": {
     "model_module": "@jupyter-widgets/controls",
     "model_name": "HTMLModel",
     "model_module_version": "1.5.0",
     "state": {
      "_view_name": "HTMLView",
      "style": "IPY_MODEL_010632a0467045768a5e82fb0c41afa4",
      "_dom_classes": [],
      "description": "",
      "_model_name": "HTMLModel",
      "placeholder": "​",
      "_view_module": "@jupyter-widgets/controls",
      "_model_module_version": "1.5.0",
      "value": " 163/163 [00:00&lt;00:00, 5.20kB/s]",
      "_view_count": null,
      "_view_module_version": "1.5.0",
      "description_tooltip": null,
      "_model_module": "@jupyter-widgets/controls",
      "layout": "IPY_MODEL_cd90f3ddf01f44639c315b7c4cb3ba4b"
     }
    },
    "3e0c68aa51eb4b9cb945f6745911d0df": {
     "model_module": "@jupyter-widgets/controls",
     "model_name": "DescriptionStyleModel",
     "model_module_version": "1.5.0",
     "state": {
      "_view_name": "StyleView",
      "_model_name": "DescriptionStyleModel",
      "description_width": "",
      "_view_module": "@jupyter-widgets/base",
      "_model_module_version": "1.5.0",
      "_view_count": null,
      "_view_module_version": "1.2.0",
      "_model_module": "@jupyter-widgets/controls"
     }
    },
    "7dfebc3155074c34834acb6690b62019": {
     "model_module": "@jupyter-widgets/base",
     "model_name": "LayoutModel",
     "model_module_version": "1.2.0",
     "state": {
      "_view_name": "LayoutView",
      "grid_template_rows": null,
      "right": null,
      "justify_content": null,
      "_view_module": "@jupyter-widgets/base",
      "overflow": null,
      "_model_module_version": "1.2.0",
      "_view_count": null,
      "flex_flow": null,
      "width": null,
      "min_width": null,
      "border": null,
      "align_items": null,
      "bottom": null,
      "_model_module": "@jupyter-widgets/base",
      "top": null,
      "grid_column": null,
      "overflow_y": null,
      "overflow_x": null,
      "grid_auto_flow": null,
      "grid_area": null,
      "grid_template_columns": null,
      "flex": null,
      "_model_name": "LayoutModel",
      "justify_items": null,
      "grid_row": null,
      "max_height": null,
      "align_content": null,
      "visibility": null,
      "align_self": null,
      "height": null,
      "min_height": null,
      "padding": null,
      "grid_auto_rows": null,
      "grid_gap": null,
      "max_width": null,
      "order": null,
      "_view_module_version": "1.2.0",
      "grid_template_areas": null,
      "object_position": null,
      "object_fit": null,
      "grid_auto_columns": null,
      "margin": null,
      "display": null,
      "left": null
     }
    },
    "0d34d068766640cb9535d2c857c29b7a": {
     "model_module": "@jupyter-widgets/controls",
     "model_name": "ProgressStyleModel",
     "model_module_version": "1.5.0",
     "state": {
      "_view_name": "StyleView",
      "_model_name": "ProgressStyleModel",
      "description_width": "",
      "_view_module": "@jupyter-widgets/base",
      "_model_module_version": "1.5.0",
      "_view_count": null,
      "_view_module_version": "1.2.0",
      "bar_color": null,
      "_model_module": "@jupyter-widgets/controls"
     }
    },
    "94b53a5f10ca40218f687c4d31ec71a7": {
     "model_module": "@jupyter-widgets/base",
     "model_name": "LayoutModel",
     "model_module_version": "1.2.0",
     "state": {
      "_view_name": "LayoutView",
      "grid_template_rows": null,
      "right": null,
      "justify_content": null,
      "_view_module": "@jupyter-widgets/base",
      "overflow": null,
      "_model_module_version": "1.2.0",
      "_view_count": null,
      "flex_flow": null,
      "width": null,
      "min_width": null,
      "border": null,
      "align_items": null,
      "bottom": null,
      "_model_module": "@jupyter-widgets/base",
      "top": null,
      "grid_column": null,
      "overflow_y": null,
      "overflow_x": null,
      "grid_auto_flow": null,
      "grid_area": null,
      "grid_template_columns": null,
      "flex": null,
      "_model_name": "LayoutModel",
      "justify_items": null,
      "grid_row": null,
      "max_height": null,
      "align_content": null,
      "visibility": null,
      "align_self": null,
      "height": null,
      "min_height": null,
      "padding": null,
      "grid_auto_rows": null,
      "grid_gap": null,
      "max_width": null,
      "order": null,
      "_view_module_version": "1.2.0",
      "grid_template_areas": null,
      "object_position": null,
      "object_fit": null,
      "grid_auto_columns": null,
      "margin": null,
      "display": null,
      "left": null
     }
    },
    "010632a0467045768a5e82fb0c41afa4": {
     "model_module": "@jupyter-widgets/controls",
     "model_name": "DescriptionStyleModel",
     "model_module_version": "1.5.0",
     "state": {
      "_view_name": "StyleView",
      "_model_name": "DescriptionStyleModel",
      "description_width": "",
      "_view_module": "@jupyter-widgets/base",
      "_model_module_version": "1.5.0",
      "_view_count": null,
      "_view_module_version": "1.2.0",
      "_model_module": "@jupyter-widgets/controls"
     }
    },
    "cd90f3ddf01f44639c315b7c4cb3ba4b": {
     "model_module": "@jupyter-widgets/base",
     "model_name": "LayoutModel",
     "model_module_version": "1.2.0",
     "state": {
      "_view_name": "LayoutView",
      "grid_template_rows": null,
      "right": null,
      "justify_content": null,
      "_view_module": "@jupyter-widgets/base",
      "overflow": null,
      "_model_module_version": "1.2.0",
      "_view_count": null,
      "flex_flow": null,
      "width": null,
      "min_width": null,
      "border": null,
      "align_items": null,
      "bottom": null,
      "_model_module": "@jupyter-widgets/base",
      "top": null,
      "grid_column": null,
      "overflow_y": null,
      "overflow_x": null,
      "grid_auto_flow": null,
      "grid_area": null,
      "grid_template_columns": null,
      "flex": null,
      "_model_name": "LayoutModel",
      "justify_items": null,
      "grid_row": null,
      "max_height": null,
      "align_content": null,
      "visibility": null,
      "align_self": null,
      "height": null,
      "min_height": null,
      "padding": null,
      "grid_auto_rows": null,
      "grid_gap": null,
      "max_width": null,
      "order": null,
      "_view_module_version": "1.2.0",
      "grid_template_areas": null,
      "object_position": null,
      "object_fit": null,
      "grid_auto_columns": null,
      "margin": null,
      "display": null,
      "left": null
     }
    },
    "6f87262fe1f944c4afe6fb31c27280a6": {
     "model_module": "@jupyter-widgets/controls",
     "model_name": "HBoxModel",
     "model_module_version": "1.5.0",
     "state": {
      "_view_name": "HBoxView",
      "_dom_classes": [],
      "_model_name": "HBoxModel",
      "_view_module": "@jupyter-widgets/controls",
      "_model_module_version": "1.5.0",
      "_view_count": null,
      "_view_module_version": "1.5.0",
      "box_style": "",
      "layout": "IPY_MODEL_8d50fe920a02422a95db2b2792ea5d7f",
      "_model_module": "@jupyter-widgets/controls",
      "children": [
       "IPY_MODEL_d9529cd5373a4925bc543a0b363dc6e4",
       "IPY_MODEL_1250b9b1f04f439c83be2a70a08318dc",
       "IPY_MODEL_166f3b23a7e541a2ab8218e980448ddf"
      ]
     }
    },
    "8d50fe920a02422a95db2b2792ea5d7f": {
     "model_module": "@jupyter-widgets/base",
     "model_name": "LayoutModel",
     "model_module_version": "1.2.0",
     "state": {
      "_view_name": "LayoutView",
      "grid_template_rows": null,
      "right": null,
      "justify_content": null,
      "_view_module": "@jupyter-widgets/base",
      "overflow": null,
      "_model_module_version": "1.2.0",
      "_view_count": null,
      "flex_flow": null,
      "width": null,
      "min_width": null,
      "border": null,
      "align_items": null,
      "bottom": null,
      "_model_module": "@jupyter-widgets/base",
      "top": null,
      "grid_column": null,
      "overflow_y": null,
      "overflow_x": null,
      "grid_auto_flow": null,
      "grid_area": null,
      "grid_template_columns": null,
      "flex": null,
      "_model_name": "LayoutModel",
      "justify_items": null,
      "grid_row": null,
      "max_height": null,
      "align_content": null,
      "visibility": null,
      "align_self": null,
      "height": null,
      "min_height": null,
      "padding": null,
      "grid_auto_rows": null,
      "grid_gap": null,
      "max_width": null,
      "order": null,
      "_view_module_version": "1.2.0",
      "grid_template_areas": null,
      "object_position": null,
      "object_fit": null,
      "grid_auto_columns": null,
      "margin": null,
      "display": null,
      "left": null
     }
    },
    "d9529cd5373a4925bc543a0b363dc6e4": {
     "model_module": "@jupyter-widgets/controls",
     "model_name": "HTMLModel",
     "model_module_version": "1.5.0",
     "state": {
      "_view_name": "HTMLView",
      "style": "IPY_MODEL_ef903f14c4fd481e8665cba7a1181f6c",
      "_dom_classes": [],
      "description": "",
      "_model_name": "HTMLModel",
      "placeholder": "​",
      "_view_module": "@jupyter-widgets/controls",
      "_model_module_version": "1.5.0",
      "value": "Downloading: 100%",
      "_view_count": null,
      "_view_module_version": "1.5.0",
      "description_tooltip": null,
      "_model_module": "@jupyter-widgets/controls",
      "layout": "IPY_MODEL_049311c3b92f40938384446aa589f272"
     }
    },
    "1250b9b1f04f439c83be2a70a08318dc": {
     "model_module": "@jupyter-widgets/controls",
     "model_name": "FloatProgressModel",
     "model_module_version": "1.5.0",
     "state": {
      "_view_name": "ProgressView",
      "style": "IPY_MODEL_45afbb6e9e3c4b6fae11710d0e2d2c98",
      "_dom_classes": [],
      "description": "",
      "_model_name": "FloatProgressModel",
      "bar_style": "success",
      "max": 291,
      "_view_module": "@jupyter-widgets/controls",
      "_model_module_version": "1.5.0",
      "value": 291,
      "_view_count": null,
      "_view_module_version": "1.5.0",
      "orientation": "horizontal",
      "min": 0,
      "description_tooltip": null,
      "_model_module": "@jupyter-widgets/controls",
      "layout": "IPY_MODEL_45d6e81f3c954c76a3d3f94533ebf259"
     }
    },
    "166f3b23a7e541a2ab8218e980448ddf": {
     "model_module": "@jupyter-widgets/controls",
     "model_name": "HTMLModel",
     "model_module_version": "1.5.0",
     "state": {
      "_view_name": "HTMLView",
      "style": "IPY_MODEL_092a07b949b041e2a14dfa82f399ffa5",
      "_dom_classes": [],
      "description": "",
      "_model_name": "HTMLModel",
      "placeholder": "​",
      "_view_module": "@jupyter-widgets/controls",
      "_model_module_version": "1.5.0",
      "value": " 291/291 [00:00&lt;00:00, 8.68kB/s]",
      "_view_count": null,
      "_view_module_version": "1.5.0",
      "description_tooltip": null,
      "_model_module": "@jupyter-widgets/controls",
      "layout": "IPY_MODEL_5608e8c7ee4c4050b0ba6227b1d05b75"
     }
    },
    "ef903f14c4fd481e8665cba7a1181f6c": {
     "model_module": "@jupyter-widgets/controls",
     "model_name": "DescriptionStyleModel",
     "model_module_version": "1.5.0",
     "state": {
      "_view_name": "StyleView",
      "_model_name": "DescriptionStyleModel",
      "description_width": "",
      "_view_module": "@jupyter-widgets/base",
      "_model_module_version": "1.5.0",
      "_view_count": null,
      "_view_module_version": "1.2.0",
      "_model_module": "@jupyter-widgets/controls"
     }
    },
    "049311c3b92f40938384446aa589f272": {
     "model_module": "@jupyter-widgets/base",
     "model_name": "LayoutModel",
     "model_module_version": "1.2.0",
     "state": {
      "_view_name": "LayoutView",
      "grid_template_rows": null,
      "right": null,
      "justify_content": null,
      "_view_module": "@jupyter-widgets/base",
      "overflow": null,
      "_model_module_version": "1.2.0",
      "_view_count": null,
      "flex_flow": null,
      "width": null,
      "min_width": null,
      "border": null,
      "align_items": null,
      "bottom": null,
      "_model_module": "@jupyter-widgets/base",
      "top": null,
      "grid_column": null,
      "overflow_y": null,
      "overflow_x": null,
      "grid_auto_flow": null,
      "grid_area": null,
      "grid_template_columns": null,
      "flex": null,
      "_model_name": "LayoutModel",
      "justify_items": null,
      "grid_row": null,
      "max_height": null,
      "align_content": null,
      "visibility": null,
      "align_self": null,
      "height": null,
      "min_height": null,
      "padding": null,
      "grid_auto_rows": null,
      "grid_gap": null,
      "max_width": null,
      "order": null,
      "_view_module_version": "1.2.0",
      "grid_template_areas": null,
      "object_position": null,
      "object_fit": null,
      "grid_auto_columns": null,
      "margin": null,
      "display": null,
      "left": null
     }
    },
    "45afbb6e9e3c4b6fae11710d0e2d2c98": {
     "model_module": "@jupyter-widgets/controls",
     "model_name": "ProgressStyleModel",
     "model_module_version": "1.5.0",
     "state": {
      "_view_name": "StyleView",
      "_model_name": "ProgressStyleModel",
      "description_width": "",
      "_view_module": "@jupyter-widgets/base",
      "_model_module_version": "1.5.0",
      "_view_count": null,
      "_view_module_version": "1.2.0",
      "bar_color": null,
      "_model_module": "@jupyter-widgets/controls"
     }
    },
    "45d6e81f3c954c76a3d3f94533ebf259": {
     "model_module": "@jupyter-widgets/base",
     "model_name": "LayoutModel",
     "model_module_version": "1.2.0",
     "state": {
      "_view_name": "LayoutView",
      "grid_template_rows": null,
      "right": null,
      "justify_content": null,
      "_view_module": "@jupyter-widgets/base",
      "overflow": null,
      "_model_module_version": "1.2.0",
      "_view_count": null,
      "flex_flow": null,
      "width": null,
      "min_width": null,
      "border": null,
      "align_items": null,
      "bottom": null,
      "_model_module": "@jupyter-widgets/base",
      "top": null,
      "grid_column": null,
      "overflow_y": null,
      "overflow_x": null,
      "grid_auto_flow": null,
      "grid_area": null,
      "grid_template_columns": null,
      "flex": null,
      "_model_name": "LayoutModel",
      "justify_items": null,
      "grid_row": null,
      "max_height": null,
      "align_content": null,
      "visibility": null,
      "align_self": null,
      "height": null,
      "min_height": null,
      "padding": null,
      "grid_auto_rows": null,
      "grid_gap": null,
      "max_width": null,
      "order": null,
      "_view_module_version": "1.2.0",
      "grid_template_areas": null,
      "object_position": null,
      "object_fit": null,
      "grid_auto_columns": null,
      "margin": null,
      "display": null,
      "left": null
     }
    },
    "092a07b949b041e2a14dfa82f399ffa5": {
     "model_module": "@jupyter-widgets/controls",
     "model_name": "DescriptionStyleModel",
     "model_module_version": "1.5.0",
     "state": {
      "_view_name": "StyleView",
      "_model_name": "DescriptionStyleModel",
      "description_width": "",
      "_view_module": "@jupyter-widgets/base",
      "_model_module_version": "1.5.0",
      "_view_count": null,
      "_view_module_version": "1.2.0",
      "_model_module": "@jupyter-widgets/controls"
     }
    },
    "5608e8c7ee4c4050b0ba6227b1d05b75": {
     "model_module": "@jupyter-widgets/base",
     "model_name": "LayoutModel",
     "model_module_version": "1.2.0",
     "state": {
      "_view_name": "LayoutView",
      "grid_template_rows": null,
      "right": null,
      "justify_content": null,
      "_view_module": "@jupyter-widgets/base",
      "overflow": null,
      "_model_module_version": "1.2.0",
      "_view_count": null,
      "flex_flow": null,
      "width": null,
      "min_width": null,
      "border": null,
      "align_items": null,
      "bottom": null,
      "_model_module": "@jupyter-widgets/base",
      "top": null,
      "grid_column": null,
      "overflow_y": null,
      "overflow_x": null,
      "grid_auto_flow": null,
      "grid_area": null,
      "grid_template_columns": null,
      "flex": null,
      "_model_name": "LayoutModel",
      "justify_items": null,
      "grid_row": null,
      "max_height": null,
      "align_content": null,
      "visibility": null,
      "align_self": null,
      "height": null,
      "min_height": null,
      "padding": null,
      "grid_auto_rows": null,
      "grid_gap": null,
      "max_width": null,
      "order": null,
      "_view_module_version": "1.2.0",
      "grid_template_areas": null,
      "object_position": null,
      "object_fit": null,
      "grid_auto_columns": null,
      "margin": null,
      "display": null,
      "left": null
     }
    },
    "a6bd7b1ea4bf4d61ada87053413853a2": {
     "model_module": "@jupyter-widgets/controls",
     "model_name": "HBoxModel",
     "model_module_version": "1.5.0",
     "state": {
      "_view_name": "HBoxView",
      "_dom_classes": [],
      "_model_name": "HBoxModel",
      "_view_module": "@jupyter-widgets/controls",
      "_model_module_version": "1.5.0",
      "_view_count": null,
      "_view_module_version": "1.5.0",
      "box_style": "",
      "layout": "IPY_MODEL_1584adc6ab084039b918e9b0b756e95f",
      "_model_module": "@jupyter-widgets/controls",
      "children": [
       "IPY_MODEL_124cd3d7cccc43e4abba22cb45be8716",
       "IPY_MODEL_246b125675f34064bf712fae87026b8b",
       "IPY_MODEL_4cafc5b8a71f4abd85834d5f01068d5a"
      ]
     }
    },
    "1584adc6ab084039b918e9b0b756e95f": {
     "model_module": "@jupyter-widgets/base",
     "model_name": "LayoutModel",
     "model_module_version": "1.2.0",
     "state": {
      "_view_name": "LayoutView",
      "grid_template_rows": null,
      "right": null,
      "justify_content": null,
      "_view_module": "@jupyter-widgets/base",
      "overflow": null,
      "_model_module_version": "1.2.0",
      "_view_count": null,
      "flex_flow": null,
      "width": null,
      "min_width": null,
      "border": null,
      "align_items": null,
      "bottom": null,
      "_model_module": "@jupyter-widgets/base",
      "top": null,
      "grid_column": null,
      "overflow_y": null,
      "overflow_x": null,
      "grid_auto_flow": null,
      "grid_area": null,
      "grid_template_columns": null,
      "flex": null,
      "_model_name": "LayoutModel",
      "justify_items": null,
      "grid_row": null,
      "max_height": null,
      "align_content": null,
      "visibility": null,
      "align_self": null,
      "height": null,
      "min_height": null,
      "padding": null,
      "grid_auto_rows": null,
      "grid_gap": null,
      "max_width": null,
      "order": null,
      "_view_module_version": "1.2.0",
      "grid_template_areas": null,
      "object_position": null,
      "object_fit": null,
      "grid_auto_columns": null,
      "margin": null,
      "display": null,
      "left": null
     }
    },
    "124cd3d7cccc43e4abba22cb45be8716": {
     "model_module": "@jupyter-widgets/controls",
     "model_name": "HTMLModel",
     "model_module_version": "1.5.0",
     "state": {
      "_view_name": "HTMLView",
      "style": "IPY_MODEL_3e90e70bd5af4cf9a3979a1170ec2be5",
      "_dom_classes": [],
      "description": "",
      "_model_name": "HTMLModel",
      "placeholder": "​",
      "_view_module": "@jupyter-widgets/controls",
      "_model_module_version": "1.5.0",
      "value": "Downloading: 100%",
      "_view_count": null,
      "_view_module_version": "1.5.0",
      "description_tooltip": null,
      "_model_module": "@jupyter-widgets/controls",
      "layout": "IPY_MODEL_b029fb9573794b2b90893e8f6a3f42f5"
     }
    },
    "246b125675f34064bf712fae87026b8b": {
     "model_module": "@jupyter-widgets/controls",
     "model_name": "FloatProgressModel",
     "model_module_version": "1.5.0",
     "state": {
      "_view_name": "ProgressView",
      "style": "IPY_MODEL_1a53c2cc30774df692bc0617b32a57a4",
      "_dom_classes": [],
      "description": "",
      "_model_name": "FloatProgressModel",
      "bar_style": "success",
      "max": 85,
      "_view_module": "@jupyter-widgets/controls",
      "_model_module_version": "1.5.0",
      "value": 85,
      "_view_count": null,
      "_view_module_version": "1.5.0",
      "orientation": "horizontal",
      "min": 0,
      "description_tooltip": null,
      "_model_module": "@jupyter-widgets/controls",
      "layout": "IPY_MODEL_dee0fea1c1684075a2f9c41b3b38f20b"
     }
    },
    "4cafc5b8a71f4abd85834d5f01068d5a": {
     "model_module": "@jupyter-widgets/controls",
     "model_name": "HTMLModel",
     "model_module_version": "1.5.0",
     "state": {
      "_view_name": "HTMLView",
      "style": "IPY_MODEL_77260ec3a53d48a0ad82cb3929427ce1",
      "_dom_classes": [],
      "description": "",
      "_model_name": "HTMLModel",
      "placeholder": "​",
      "_view_module": "@jupyter-widgets/controls",
      "_model_module_version": "1.5.0",
      "value": " 85.0/85.0 [00:00&lt;00:00, 2.59kB/s]",
      "_view_count": null,
      "_view_module_version": "1.5.0",
      "description_tooltip": null,
      "_model_module": "@jupyter-widgets/controls",
      "layout": "IPY_MODEL_e6d1659f09d348e7a7be6756c5a4061c"
     }
    },
    "3e90e70bd5af4cf9a3979a1170ec2be5": {
     "model_module": "@jupyter-widgets/controls",
     "model_name": "DescriptionStyleModel",
     "model_module_version": "1.5.0",
     "state": {
      "_view_name": "StyleView",
      "_model_name": "DescriptionStyleModel",
      "description_width": "",
      "_view_module": "@jupyter-widgets/base",
      "_model_module_version": "1.5.0",
      "_view_count": null,
      "_view_module_version": "1.2.0",
      "_model_module": "@jupyter-widgets/controls"
     }
    },
    "b029fb9573794b2b90893e8f6a3f42f5": {
     "model_module": "@jupyter-widgets/base",
     "model_name": "LayoutModel",
     "model_module_version": "1.2.0",
     "state": {
      "_view_name": "LayoutView",
      "grid_template_rows": null,
      "right": null,
      "justify_content": null,
      "_view_module": "@jupyter-widgets/base",
      "overflow": null,
      "_model_module_version": "1.2.0",
      "_view_count": null,
      "flex_flow": null,
      "width": null,
      "min_width": null,
      "border": null,
      "align_items": null,
      "bottom": null,
      "_model_module": "@jupyter-widgets/base",
      "top": null,
      "grid_column": null,
      "overflow_y": null,
      "overflow_x": null,
      "grid_auto_flow": null,
      "grid_area": null,
      "grid_template_columns": null,
      "flex": null,
      "_model_name": "LayoutModel",
      "justify_items": null,
      "grid_row": null,
      "max_height": null,
      "align_content": null,
      "visibility": null,
      "align_self": null,
      "height": null,
      "min_height": null,
      "padding": null,
      "grid_auto_rows": null,
      "grid_gap": null,
      "max_width": null,
      "order": null,
      "_view_module_version": "1.2.0",
      "grid_template_areas": null,
      "object_position": null,
      "object_fit": null,
      "grid_auto_columns": null,
      "margin": null,
      "display": null,
      "left": null
     }
    },
    "1a53c2cc30774df692bc0617b32a57a4": {
     "model_module": "@jupyter-widgets/controls",
     "model_name": "ProgressStyleModel",
     "model_module_version": "1.5.0",
     "state": {
      "_view_name": "StyleView",
      "_model_name": "ProgressStyleModel",
      "description_width": "",
      "_view_module": "@jupyter-widgets/base",
      "_model_module_version": "1.5.0",
      "_view_count": null,
      "_view_module_version": "1.2.0",
      "bar_color": null,
      "_model_module": "@jupyter-widgets/controls"
     }
    },
    "dee0fea1c1684075a2f9c41b3b38f20b": {
     "model_module": "@jupyter-widgets/base",
     "model_name": "LayoutModel",
     "model_module_version": "1.2.0",
     "state": {
      "_view_name": "LayoutView",
      "grid_template_rows": null,
      "right": null,
      "justify_content": null,
      "_view_module": "@jupyter-widgets/base",
      "overflow": null,
      "_model_module_version": "1.2.0",
      "_view_count": null,
      "flex_flow": null,
      "width": null,
      "min_width": null,
      "border": null,
      "align_items": null,
      "bottom": null,
      "_model_module": "@jupyter-widgets/base",
      "top": null,
      "grid_column": null,
      "overflow_y": null,
      "overflow_x": null,
      "grid_auto_flow": null,
      "grid_area": null,
      "grid_template_columns": null,
      "flex": null,
      "_model_name": "LayoutModel",
      "justify_items": null,
      "grid_row": null,
      "max_height": null,
      "align_content": null,
      "visibility": null,
      "align_self": null,
      "height": null,
      "min_height": null,
      "padding": null,
      "grid_auto_rows": null,
      "grid_gap": null,
      "max_width": null,
      "order": null,
      "_view_module_version": "1.2.0",
      "grid_template_areas": null,
      "object_position": null,
      "object_fit": null,
      "grid_auto_columns": null,
      "margin": null,
      "display": null,
      "left": null
     }
    },
    "77260ec3a53d48a0ad82cb3929427ce1": {
     "model_module": "@jupyter-widgets/controls",
     "model_name": "DescriptionStyleModel",
     "model_module_version": "1.5.0",
     "state": {
      "_view_name": "StyleView",
      "_model_name": "DescriptionStyleModel",
      "description_width": "",
      "_view_module": "@jupyter-widgets/base",
      "_model_module_version": "1.5.0",
      "_view_count": null,
      "_view_module_version": "1.2.0",
      "_model_module": "@jupyter-widgets/controls"
     }
    },
    "e6d1659f09d348e7a7be6756c5a4061c": {
     "model_module": "@jupyter-widgets/base",
     "model_name": "LayoutModel",
     "model_module_version": "1.2.0",
     "state": {
      "_view_name": "LayoutView",
      "grid_template_rows": null,
      "right": null,
      "justify_content": null,
      "_view_module": "@jupyter-widgets/base",
      "overflow": null,
      "_model_module_version": "1.2.0",
      "_view_count": null,
      "flex_flow": null,
      "width": null,
      "min_width": null,
      "border": null,
      "align_items": null,
      "bottom": null,
      "_model_module": "@jupyter-widgets/base",
      "top": null,
      "grid_column": null,
      "overflow_y": null,
      "overflow_x": null,
      "grid_auto_flow": null,
      "grid_area": null,
      "grid_template_columns": null,
      "flex": null,
      "_model_name": "LayoutModel",
      "justify_items": null,
      "grid_row": null,
      "max_height": null,
      "align_content": null,
      "visibility": null,
      "align_self": null,
      "height": null,
      "min_height": null,
      "padding": null,
      "grid_auto_rows": null,
      "grid_gap": null,
      "max_width": null,
      "order": null,
      "_view_module_version": "1.2.0",
      "grid_template_areas": null,
      "object_position": null,
      "object_fit": null,
      "grid_auto_columns": null,
      "margin": null,
      "display": null,
      "left": null
     }
    },
    "14eedbb1446b4fd38fbcbe58af07d584": {
     "model_module": "@jupyter-widgets/controls",
     "model_name": "HBoxModel",
     "model_module_version": "1.5.0",
     "state": {
      "_view_name": "HBoxView",
      "_dom_classes": [],
      "_model_name": "HBoxModel",
      "_view_module": "@jupyter-widgets/controls",
      "_model_module_version": "1.5.0",
      "_view_count": null,
      "_view_module_version": "1.5.0",
      "box_style": "",
      "layout": "IPY_MODEL_470f9ace33bc43fba86eedaa763856b0",
      "_model_module": "@jupyter-widgets/controls",
      "children": [
       "IPY_MODEL_78f2add354004bf69735c7a452f1bcbf",
       "IPY_MODEL_bd701e8ef8dc46f5ac911097bcde660a",
       "IPY_MODEL_7666ee15d9924862aceee7872ecadecc"
      ]
     }
    },
    "470f9ace33bc43fba86eedaa763856b0": {
     "model_module": "@jupyter-widgets/base",
     "model_name": "LayoutModel",
     "model_module_version": "1.2.0",
     "state": {
      "_view_name": "LayoutView",
      "grid_template_rows": null,
      "right": null,
      "justify_content": null,
      "_view_module": "@jupyter-widgets/base",
      "overflow": null,
      "_model_module_version": "1.2.0",
      "_view_count": null,
      "flex_flow": null,
      "width": null,
      "min_width": null,
      "border": null,
      "align_items": null,
      "bottom": null,
      "_model_module": "@jupyter-widgets/base",
      "top": null,
      "grid_column": null,
      "overflow_y": null,
      "overflow_x": null,
      "grid_auto_flow": null,
      "grid_area": null,
      "grid_template_columns": null,
      "flex": null,
      "_model_name": "LayoutModel",
      "justify_items": null,
      "grid_row": null,
      "max_height": null,
      "align_content": null,
      "visibility": null,
      "align_self": null,
      "height": null,
      "min_height": null,
      "padding": null,
      "grid_auto_rows": null,
      "grid_gap": null,
      "max_width": null,
      "order": null,
      "_view_module_version": "1.2.0",
      "grid_template_areas": null,
      "object_position": null,
      "object_fit": null,
      "grid_auto_columns": null,
      "margin": null,
      "display": null,
      "left": null
     }
    },
    "78f2add354004bf69735c7a452f1bcbf": {
     "model_module": "@jupyter-widgets/controls",
     "model_name": "HTMLModel",
     "model_module_version": "1.5.0",
     "state": {
      "_view_name": "HTMLView",
      "style": "IPY_MODEL_e7a9e685bd954d5998a54eb723c91d3c",
      "_dom_classes": [],
      "description": "",
      "_model_name": "HTMLModel",
      "placeholder": "​",
      "_view_module": "@jupyter-widgets/controls",
      "_model_module_version": "1.5.0",
      "value": "Downloading: 100%",
      "_view_count": null,
      "_view_module_version": "1.5.0",
      "description_tooltip": null,
      "_model_module": "@jupyter-widgets/controls",
      "layout": "IPY_MODEL_af77d1e591ad41c99aabb8ab17f83cf8"
     }
    },
    "bd701e8ef8dc46f5ac911097bcde660a": {
     "model_module": "@jupyter-widgets/controls",
     "model_name": "FloatProgressModel",
     "model_module_version": "1.5.0",
     "state": {
      "_view_name": "ProgressView",
      "style": "IPY_MODEL_f86f8323f02040309f42d995a0564d0c",
      "_dom_classes": [],
      "description": "",
      "_model_name": "FloatProgressModel",
      "bar_style": "success",
      "max": 377667514,
      "_view_module": "@jupyter-widgets/controls",
      "_model_module_version": "1.5.0",
      "value": 377667514,
      "_view_count": null,
      "_view_module_version": "1.5.0",
      "orientation": "horizontal",
      "min": 0,
      "description_tooltip": null,
      "_model_module": "@jupyter-widgets/controls",
      "layout": "IPY_MODEL_38b273320243480da5d35b83c57971b6"
     }
    },
    "7666ee15d9924862aceee7872ecadecc": {
     "model_module": "@jupyter-widgets/controls",
     "model_name": "HTMLModel",
     "model_module_version": "1.5.0",
     "state": {
      "_view_name": "HTMLView",
      "style": "IPY_MODEL_04b9b37b4d0a4d7cbfde16db6403d521",
      "_dom_classes": [],
      "description": "",
      "_model_name": "HTMLModel",
      "placeholder": "​",
      "_view_module": "@jupyter-widgets/controls",
      "_model_module_version": "1.5.0",
      "value": " 360M/360M [00:07&lt;00:00, 59.4MB/s]",
      "_view_count": null,
      "_view_module_version": "1.5.0",
      "description_tooltip": null,
      "_model_module": "@jupyter-widgets/controls",
      "layout": "IPY_MODEL_06262f8caf0a4eeca221202099c90a8c"
     }
    },
    "e7a9e685bd954d5998a54eb723c91d3c": {
     "model_module": "@jupyter-widgets/controls",
     "model_name": "DescriptionStyleModel",
     "model_module_version": "1.5.0",
     "state": {
      "_view_name": "StyleView",
      "_model_name": "DescriptionStyleModel",
      "description_width": "",
      "_view_module": "@jupyter-widgets/base",
      "_model_module_version": "1.5.0",
      "_view_count": null,
      "_view_module_version": "1.2.0",
      "_model_module": "@jupyter-widgets/controls"
     }
    },
    "af77d1e591ad41c99aabb8ab17f83cf8": {
     "model_module": "@jupyter-widgets/base",
     "model_name": "LayoutModel",
     "model_module_version": "1.2.0",
     "state": {
      "_view_name": "LayoutView",
      "grid_template_rows": null,
      "right": null,
      "justify_content": null,
      "_view_module": "@jupyter-widgets/base",
      "overflow": null,
      "_model_module_version": "1.2.0",
      "_view_count": null,
      "flex_flow": null,
      "width": null,
      "min_width": null,
      "border": null,
      "align_items": null,
      "bottom": null,
      "_model_module": "@jupyter-widgets/base",
      "top": null,
      "grid_column": null,
      "overflow_y": null,
      "overflow_x": null,
      "grid_auto_flow": null,
      "grid_area": null,
      "grid_template_columns": null,
      "flex": null,
      "_model_name": "LayoutModel",
      "justify_items": null,
      "grid_row": null,
      "max_height": null,
      "align_content": null,
      "visibility": null,
      "align_self": null,
      "height": null,
      "min_height": null,
      "padding": null,
      "grid_auto_rows": null,
      "grid_gap": null,
      "max_width": null,
      "order": null,
      "_view_module_version": "1.2.0",
      "grid_template_areas": null,
      "object_position": null,
      "object_fit": null,
      "grid_auto_columns": null,
      "margin": null,
      "display": null,
      "left": null
     }
    },
    "f86f8323f02040309f42d995a0564d0c": {
     "model_module": "@jupyter-widgets/controls",
     "model_name": "ProgressStyleModel",
     "model_module_version": "1.5.0",
     "state": {
      "_view_name": "StyleView",
      "_model_name": "ProgressStyleModel",
      "description_width": "",
      "_view_module": "@jupyter-widgets/base",
      "_model_module_version": "1.5.0",
      "_view_count": null,
      "_view_module_version": "1.2.0",
      "bar_color": null,
      "_model_module": "@jupyter-widgets/controls"
     }
    },
    "38b273320243480da5d35b83c57971b6": {
     "model_module": "@jupyter-widgets/base",
     "model_name": "LayoutModel",
     "model_module_version": "1.2.0",
     "state": {
      "_view_name": "LayoutView",
      "grid_template_rows": null,
      "right": null,
      "justify_content": null,
      "_view_module": "@jupyter-widgets/base",
      "overflow": null,
      "_model_module_version": "1.2.0",
      "_view_count": null,
      "flex_flow": null,
      "width": null,
      "min_width": null,
      "border": null,
      "align_items": null,
      "bottom": null,
      "_model_module": "@jupyter-widgets/base",
      "top": null,
      "grid_column": null,
      "overflow_y": null,
      "overflow_x": null,
      "grid_auto_flow": null,
      "grid_area": null,
      "grid_template_columns": null,
      "flex": null,
      "_model_name": "LayoutModel",
      "justify_items": null,
      "grid_row": null,
      "max_height": null,
      "align_content": null,
      "visibility": null,
      "align_self": null,
      "height": null,
      "min_height": null,
      "padding": null,
      "grid_auto_rows": null,
      "grid_gap": null,
      "max_width": null,
      "order": null,
      "_view_module_version": "1.2.0",
      "grid_template_areas": null,
      "object_position": null,
      "object_fit": null,
      "grid_auto_columns": null,
      "margin": null,
      "display": null,
      "left": null
     }
    },
    "04b9b37b4d0a4d7cbfde16db6403d521": {
     "model_module": "@jupyter-widgets/controls",
     "model_name": "DescriptionStyleModel",
     "model_module_version": "1.5.0",
     "state": {
      "_view_name": "StyleView",
      "_model_name": "DescriptionStyleModel",
      "description_width": "",
      "_view_module": "@jupyter-widgets/base",
      "_model_module_version": "1.5.0",
      "_view_count": null,
      "_view_module_version": "1.2.0",
      "_model_module": "@jupyter-widgets/controls"
     }
    },
    "06262f8caf0a4eeca221202099c90a8c": {
     "model_module": "@jupyter-widgets/base",
     "model_name": "LayoutModel",
     "model_module_version": "1.2.0",
     "state": {
      "_view_name": "LayoutView",
      "grid_template_rows": null,
      "right": null,
      "justify_content": null,
      "_view_module": "@jupyter-widgets/base",
      "overflow": null,
      "_model_module_version": "1.2.0",
      "_view_count": null,
      "flex_flow": null,
      "width": null,
      "min_width": null,
      "border": null,
      "align_items": null,
      "bottom": null,
      "_model_module": "@jupyter-widgets/base",
      "top": null,
      "grid_column": null,
      "overflow_y": null,
      "overflow_x": null,
      "grid_auto_flow": null,
      "grid_area": null,
      "grid_template_columns": null,
      "flex": null,
      "_model_name": "LayoutModel",
      "justify_items": null,
      "grid_row": null,
      "max_height": null,
      "align_content": null,
      "visibility": null,
      "align_self": null,
      "height": null,
      "min_height": null,
      "padding": null,
      "grid_auto_rows": null,
      "grid_gap": null,
      "max_width": null,
      "order": null,
      "_view_module_version": "1.2.0",
      "grid_template_areas": null,
      "object_position": null,
      "object_fit": null,
      "grid_auto_columns": null,
      "margin": null,
      "display": null,
      "left": null
     }
    }
   }
  }
 },
 "cells": [
  {
   "cell_type": "markdown",
   "source": [
    "**Wav2Vec 2.0** is a pretrained model for Automatic Speech Recognition (ASR) and was released in [September 2020](https://ai.facebook.com/blog/wav2vec-20-learning-the-structure-of-speech-from-raw-audio/) by Alexei Baevski, Michael Auli, and Alex Conneau.\n",
    "\n",
    "![Wav2vec Architecture](https://smilegate.ai/wp-content/uploads/2020/08/w2v2-3-800x533.jpg)\n",
    "\n",
    "The contextualized representation of the model can be used for a variety of tasks. On HuggingFace, the section [Wav2vec](https://huggingface.co/docs/transformers/model_doc/wav2vec2) describes how the basic Wav2vec model works and what parameters are set to by default.\n",
    "\n",
    "An introduction on how to use Wav2vec can be found at [Fine-tune Wav2vec](https://huggingface.co/blog/fine-tune-wav2vec2-english)."
   ],
   "metadata": {
    "id": "qOOhlVxwE2Re"
   }
  },
  {
   "cell_type": "markdown",
   "source": [
    "In this notebook, a downstream model is created to use Wav2vec for Voice Activity Detection.\n",
    "\n",
    "The model is trained and tested on various locations and SNR values between SNR+05dB and SNR-20dB on the [QUT-NOISE-TIMIT](https://research.qut.edu.au/saivt/databases/qut-noise-databases-and-protocols/) dataset.\n",
    "\n",
    "For training recording session A is used, for testing the recording session B. "
   ],
   "metadata": {
    "id": "UVDws_5sHdLL"
   }
  },
  {
   "cell_type": "markdown",
   "source": [
    "# Global Paths"
   ],
   "metadata": {
    "id": "fPHMIWGgIJeP"
   }
  },
  {
   "cell_type": "code",
   "execution_count": 9,
   "metadata": {
    "id": "lA6h6nAm8wV_"
   },
   "outputs": [],
   "source": [
    "path_files = \"drive/MyDrive/Master Thesis/\"\n",
    "path_python_files = path_files + 'Python_files'"
   ]
  },
  {
   "cell_type": "markdown",
   "source": [
    "# Imports"
   ],
   "metadata": {
    "id": "gwkS54G-IO0_"
   }
  },
  {
   "cell_type": "code",
   "source": [
    "%%capture\n",
    "\n",
    "!pip install git+https://github.com/huggingface/transformers.git\n",
    "!pip install mlflow --quiet"
   ],
   "metadata": {
    "id": "DT3gKQSOILD4"
   },
   "execution_count": 1,
   "outputs": []
  },
  {
   "cell_type": "code",
   "source": [
    "from dataclasses import dataclass\n",
    "from datetime import datetime\n",
    "\n",
    "import librosa\n",
    "import matplotlib.pyplot as plt\n",
    "import mlflow\n",
    "import numpy as np\n",
    "\n",
    "from packaging import version\n",
    "import pexpect\n",
    "import random\n",
    "import seaborn as sns\n",
    "\n",
    "from sklearn.metrics import classification_report\n",
    "from sklearn.metrics import confusion_matrix\n",
    "from sklearn.model_selection import train_test_split\n",
    "import sys\n",
    "\n",
    "from tensorflow.keras.utils import to_categorical\n",
    "\n",
    "import torch\n",
    "import torch.nn as nn\n",
    "from torch.nn import CrossEntropyLoss\n",
    "\n",
    "import transformers\n",
    "from transformers import (\n",
    "    AutoConfig,\n",
    "    Trainer,\n",
    "    TrainingArguments,\n",
    "    is_apex_available,\n",
    "    Wav2vec2Processor\n",
    ")\n",
    "from transformers.file_utils import ModelOutput\n",
    "from transformers.models.wav2vec2.modeling_wav2vec2 import (\n",
    "    Wav2Vec2PreTrainedModel,\n",
    "    Wav2Vec2Model\n",
    ")\n",
    "\n",
    "from typing import Any, Dict, List, Optional, Union, Tuple"
   ],
   "metadata": {
    "id": "Vsw31__XIlnO"
   },
   "execution_count": 2,
   "outputs": []
  },
  {
   "cell_type": "code",
   "source": [
    "sys.path.append(path_python_files)\n",
    "from configs_private import USERNAME, PASSWORD, EXPERIMENT_URL  # credentials for databricks\n",
    "from Enums import AudioClipFileLength, FeatureType, RecPlace, SNR\n",
    "from get_files import get_available_files\n",
    "from Parameters import Parameters\n",
    "from process_frames_wav2vec import get_processed_frames\n",
    "from create_features_and_labels import get_feature_and_labels\n",
    "from plot_files import plot_file_distribution\n",
    "from evaluation_tensorflow import Evaluation"
   ],
   "metadata": {
    "id": "NWaMZzmOI123"
   },
   "execution_count": 3,
   "outputs": []
  },
  {
   "cell_type": "markdown",
   "source": [
    "# Set values of Experiment\n",
    "Set the different values depending on the type of experiment that should be run. When running a sweep of experiments, the values can be adjusted here."
   ],
   "metadata": {
    "id": "tu93h_odIj5c"
   }
  },
  {
   "cell_type": "code",
   "source": [
    "snr = SNR.MINUS_FIVE  # SNR value of the current experiment\n",
    "labels_per_frame = True  # otherwise labels per window\n",
    "# Type of feature, either raw audio, MFCC, or Spectrogram\n",
    "feature = FeatureType.SPECTROGRAM\n",
    "# if True, ignores raw audio during feature extraction to reduce memory needed\n",
    "# only needed if raw_audio is feature of model is Wav2vec\n",
    "ignore_raw_audio = False\n",
    "# Number of epochs to train on\n",
    "train_epochs = 10\n",
    "# split between train and validation set\n",
    "validation_split = 0.3\n",
    "# Batch size of the training\n",
    "batch_size = 32\n",
    "# If the model should stop early if it is not improving\n",
    "early_stopping = False\n",
    "# number of epochs it will wait before stopping early\n",
    "patience = 10\n",
    "# optimizer used to train the model (default for all models is Adam)\n",
    "optimizer='Adam'\n",
    "# loss function (default is BinaryCrossEntropy, but Hingeloss was also tried)\n",
    "loss='BinaryCrossentropy'\n",
    "\n",
    "# Metrics on which to judge the model\n",
    "metrics = ['accuracy']\n",
    "# if save_best, the best trained epoch is loaded after training\n",
    "save_best = True\n",
    "\n",
    "# number of files for training/testing, can be set to reduce memory\n",
    "# all files are shuffled before, so it will be split over all categories\n",
    "nr_train_files = 30\n",
    "nr_test_files = 30"
   ],
   "metadata": {
    "id": "yaaqwsxOJgr6"
   },
   "execution_count": 4,
   "outputs": []
  },
  {
   "cell_type": "markdown",
   "source": [
    "# Connect to track results\n",
    "Currently using the databricks community edition to track experiments"
   ],
   "metadata": {
    "id": "0pvxPGR2KJLP"
   }
  },
  {
   "cell_type": "code",
   "source": [
    "# Databricks community version does not allow token generation so instead \n",
    "# automatically insert the username and password using expect\n",
    "child = pexpect.spawn('databricks configure --host https://community.cloud.databricks.com', encoding='utf-8')\n",
    "child.expect('Username:')\n",
    "child.sendline(USERNAME)\n",
    "child.expect('Password:')\n",
    "child.sendline(PASSWORD)\n",
    "child.expect('Repeat for confirmation:')\n",
    "child.sendline(PASSWORD)\n",
    "print('Connected to Databricks')"
   ],
   "metadata": {
    "colab": {
     "base_uri": "https://localhost:8080/"
    },
    "id": "W2VchrkDKK63",
    "outputId": "53ecbe28-b7d0-4a95-e152-9ea8d95f350f"
   },
   "execution_count": 5,
   "outputs": [
    {
     "output_type": "stream",
     "name": "stdout",
     "text": [
      "Connected to Databricks\n"
     ]
    }
   ]
  },
  {
   "cell_type": "code",
   "source": [
    "mlflow.set_tracking_uri(\"databricks\")\n",
    "# Create one Experiment per SNR value (from n-20dB to n+05dB in steps of 5)\n",
    "mlflow.set_experiment(EXPERIMENT_URL+snr.value)"
   ],
   "metadata": {
    "colab": {
     "base_uri": "https://localhost:8080/"
    },
    "id": "qlenG0CSKPL-",
    "outputId": "2e57999e-0415-4f37-96f8-23b4b828d75e"
   },
   "execution_count": 6,
   "outputs": [
    {
     "output_type": "execute_result",
     "data": {
      "text/plain": [
       "<Experiment: artifact_location='dbfs:/databricks/mlflow-tracking/1010535410834463', experiment_id='1010535410834463', lifecycle_stage='active', name='/Users/d.hamandouche@students.uu.nl/n-05', tags={'mlflow.experiment.sourceName': '/Users/d.hamandouche@students.uu.nl/n-05',\n",
       " 'mlflow.experimentType': 'MLFLOW_EXPERIMENT',\n",
       " 'mlflow.ownerEmail': 'd.hamandouche@students.uu.nl',\n",
       " 'mlflow.ownerId': '6054914286087382'}>"
      ]
     },
     "metadata": {},
     "execution_count": 6
    }
   ]
  },
  {
   "cell_type": "code",
   "source": [
    "mlflow.tensorflow.autolog()"
   ],
   "metadata": {
    "colab": {
     "base_uri": "https://localhost:8080/"
    },
    "id": "NJiHh_RNKW5l",
    "outputId": "40c270d0-4a1d-4c32-ad1d-fb86b0f593b1"
   },
   "execution_count": 7,
   "outputs": [
    {
     "output_type": "stream",
     "name": "stderr",
     "text": [
      "2022/02/23 11:43:38 WARNING mlflow.utils.autologging_utils: You are using an unsupported version of tensorflow. If you encounter errors during autologging, try upgrading / downgrading tensorflow to a supported version, or try upgrading MLflow.\n"
     ]
    }
   ]
  },
  {
   "cell_type": "markdown",
   "source": [
    "# Get Data"
   ],
   "metadata": {
    "id": "BbXIKb_MLU_I"
   }
  },
  {
   "cell_type": "code",
   "source": [
    "wav_files_train = get_available_files(path_files+\"QUT-NOISE-TIMIT-new/\", snr, AudioClipFileLength.ONE_MINUTE, rec_place=RecPlace.a)\n",
    "wav_files_test = get_available_files(path_files+\"QUT-NOISE-TIMIT-new/\", snr, AudioClipFileLength.ONE_MINUTE, rec_place=RecPlace.b)"
   ],
   "metadata": {
    "colab": {
     "base_uri": "https://localhost:8080/"
    },
    "id": "FXfR0Mb_LZPP",
    "outputId": "0cb2faa9-c23c-437f-df21-1c3819897926"
   },
   "execution_count": 10,
   "outputs": [
    {
     "output_type": "stream",
     "name": "stdout",
     "text": [
      "Total length: 900\n",
      "Total length: 900\n"
     ]
    }
   ]
  },
  {
   "cell_type": "code",
   "source": [
    "# for the emotion recognition dataset\n",
    "# wav_files_train = get_available_files(path_files+\"RAVDESS/\", snr, AudioClipFileLength.ONE_MINUTE, rec_place=RecPlace.a)\n",
    "# wav_files_test = get_available_files(path_files+\"RAVDESS/\", snr, AudioClipFileLength.ONE_MINUTE, rec_place=RecPlace.b) "
   ],
   "metadata": {
    "id": "iMX9_QD9LWdq"
   },
   "execution_count": 11,
   "outputs": []
  },
  {
   "cell_type": "code",
   "source": [
    "# Shuffle the list of audio files to avoid having just one category\n",
    "random.shuffle(wav_files_train)\n",
    "random.shuffle(wav_files_test)"
   ],
   "metadata": {
    "id": "ozq2AC9QLlz-"
   },
   "execution_count": 12,
   "outputs": []
  },
  {
   "cell_type": "code",
   "source": [
    "# set all parameters as wanted\n",
    "parameter = Parameters()\n",
    "# set_params_specs is the default for Spectrogram\n",
    "if feature == FeatureType.SPECTROGRAM or feature == FeatureType.RAW_AUDIO:\n",
    "    print('Using spectrogram or raw audio parameter')\n",
    "    parameter.set_params_specs()\n",
    "else:\n",
    "    print('Using MFCC parameter')\n",
    "    parameter.set_params_unet()\n",
    "parameter"
   ],
   "metadata": {
    "colab": {
     "base_uri": "https://localhost:8080/"
    },
    "id": "FmHhnmeGLmOi",
    "outputId": "b83ef995-1c0c-4e5f-c4d7-cf1ee715462a"
   },
   "execution_count": 13,
   "outputs": [
    {
     "output_type": "stream",
     "name": "stdout",
     "text": [
      "Using spectrogram or raw audio parameter\n"
     ]
    },
    {
     "output_type": "execute_result",
     "data": {
      "text/plain": [
       "Parameters(window_size=400, sliding_window_size=40960, hop_length=320, n_mfcc=32, n_mels=32, n_fft=400, fmin=0, fmax=8000, sr=16000, htk=False, center=True, wiener_filters=12, use_wiener_filter=False, feature_type=<FeatureType.SPECTROGRAM: 'Spectrogram'>)"
      ]
     },
     "metadata": {},
     "execution_count": 13
    }
   ]
  },
  {
   "cell_type": "markdown",
   "source": [
    "# Train Dataset"
   ],
   "metadata": {
    "id": "DWX654oGKrVC"
   }
  },
  {
   "cell_type": "markdown",
   "source": [
    "## Extract Features"
   ],
   "metadata": {
    "id": "KHZkPSOfKtLd"
   }
  },
  {
   "cell_type": "code",
   "source": [
    "end_train = nr_train_files  # len(wav_files_train)\n",
    "x_train, labels_train, frames_pos_train, frames_train = get_feature_and_labels(wav_files_train[0:end_train], parameter, ignore_raw_audio=ignore_raw_audio)\n",
    "y_train = to_categorical(labels_train)\n",
    "plot_file_distribution(wav_files_train[0:end_train], labels_train)"
   ],
   "metadata": {
    "colab": {
     "base_uri": "https://localhost:8080/",
     "height": 677
    },
    "id": "I3X42jKeKjGR",
    "outputId": "5f0f25b9-0ace-488b-dcb7-d868604e0513"
   },
   "execution_count": 14,
   "outputs": [
    {
     "output_type": "stream",
     "name": "stderr",
     "text": [
      "100%|██████████| 30/30 [00:44<00:00,  1.48s/it]\n"
     ]
    },
    {
     "output_type": "stream",
     "name": "stdout",
     "text": [
      "Counter({'n-05': 30})\n",
      "Counter({0: 108337, 1: 68303})\n",
      "Counter({'sA': 30})\n",
      "Counter({'REVERB-CARPARK-1': 5, 'HOME-LIVINGB-1': 4, 'CAFE-CAFE-2': 3, 'STREET-CITY-2': 3, 'CAFE-FOODCOURTB-2': 3, 'STREET-CITY-1': 2, 'CAR-WINUPB-1': 2, 'HOME-KITCHEN-1': 1, 'CAR-WINUPB-2': 1, 'CAR-WINDOWNB-1': 1, 'CAFE-CAFE-1': 1, 'REVERB-CARPARK-2': 1, 'HOME-KITCHEN-2': 1, 'HOME-LIVINGB-2': 1, 'CAR-WINDOWNB-2': 1})\n"
     ]
    },
    {
     "output_type": "display_data",
     "data": {
      "image/png": "[encoded data removed]",
      "text/plain": [
       "<Figure size 432x288 with 1 Axes>"
      ]
     },
     "metadata": {
      "needs_background": "light"
     }
    },
    {
     "output_type": "display_data",
     "data": {
      "image/png": "[encoded data removed]",
      "text/plain": [
       "<Figure size 432x288 with 1 Axes>"
      ]
     },
     "metadata": {
      "needs_background": "light"
     }
    }
   ]
  },
  {
   "cell_type": "code",
   "source": [
    "# create train dataset\n",
    "train_dataset = get_processed_frames(frames_train, x_train, y_train)\n",
    "del frames_train, x_train, y_train, frames_pos_train"
   ],
   "metadata": {
    "colab": {
     "base_uri": "https://localhost:8080/",
     "height": 85,
     "referenced_widgets": [
      "3f8d46a1cc56435aa62022516e12fda3",
      "9eaa77db68f04adb83e2080b071edd3f",
      "f2b6e804817a472eab1b1ae90fc34154",
      "ab11c3a8b7854703a69ee0aedb4371c3",
      "a6bf55b00deb495199adebce7dcf29ab",
      "ef52ad35f32246b6a32421f672fe4969",
      "be1fb2ca32cb4bb8b07c9a08d68bd21d",
      "a14c331108124993a7f5a6c10b1e1be8",
      "6308cf05941c49bb90120124acbb9163",
      "a8f6fd6591424b82a4d52998947bd8a0",
      "599fb13451ba4ee5a7330c70ec95d6d5"
     ]
    },
    "id": "vWUC5GpiKv56",
    "outputId": "81ae4b15-e799-4365-ca2e-cda17aafc849"
   },
   "execution_count": 15,
   "outputs": [
    {
     "output_type": "display_data",
     "data": {
      "application/vnd.jupyter.widget-view+json": {
       "model_id": "3f8d46a1cc56435aa62022516e12fda3",
       "version_minor": 0,
       "version_major": 2
      },
      "text/plain": [
       "Downloading:   0%|          | 0.00/159 [00:00<?, ?B/s]"
      ]
     },
     "metadata": {}
    },
    {
     "output_type": "stream",
     "name": "stdout",
     "text": [
      "The target sampling rate: 16000\n"
     ]
    },
    {
     "output_type": "stream",
     "name": "stderr",
     "text": [
      "100%|██████████| 1380/1380 [00:00<00:00, 13348.41it/s]\n"
     ]
    }
   ]
  },
  {
   "cell_type": "code",
   "source": [
    "# Split into train and validation, stratified by labels\n",
    "labels = [element['majority_label'] for element in train_dataset]\n",
    "train_dataset, eval_dataset = train_test_split(train_dataset, \n",
    "                                               test_size=validation_split, \n",
    "                                               random_state=101, \n",
    "                                               stratify=labels)"
   ],
   "metadata": {
    "id": "BsqMUOekMK4q"
   },
   "execution_count": 16,
   "outputs": []
  },
  {
   "cell_type": "code",
   "source": [
    "# we need to distinguish the unique labels in our VAD dataset\n",
    "labels = [element for frame in train_dataset for element in frame['labels']]\n",
    "labels = np.array(labels)\n",
    "label_list = np.unique(labels)\n",
    "label_list.sort()  # sort it for determinism\n",
    "num_labels = len(label_list)  # needed for model config\n",
    "\n",
    "print(f\"A classification problem with {num_labels} classes: {label_list}\")\n",
    "unique, counts = np.unique(labels, return_counts=True)\n",
    "\n",
    "# find the accuracy of just predicting the majority label\n",
    "prob_majority = float(counts.max())/len(labels)\n",
    "\n",
    "print(f'Calculating only the majority class {np.argmax(counts)} equals {prob_majority*100}%')\n",
    "print(unique, counts)"
   ],
   "metadata": {
    "colab": {
     "base_uri": "https://localhost:8080/"
    },
    "id": "ifgI9nwhMPW4",
    "outputId": "7e4d3fdc-5ed1-406d-e881-af5573201035"
   },
   "execution_count": 17,
   "outputs": [
    {
     "output_type": "stream",
     "name": "stdout",
     "text": [
      "A classification problem with 2 classes: ['no speech' 'speech']\n",
      "Calculating only the majority class 0 equals 61.488256987577635%\n",
      "['no speech' 'speech'] [76029 47619]\n"
     ]
    }
   ]
  },
  {
   "cell_type": "code",
   "source": [
    "# we need to distinguish the unique labels in our VAD dataset\n",
    "labels = [element for frame in eval_dataset for element in frame['labels']]\n",
    "labels = np.array(labels)\n",
    "label_list = np.unique(labels)\n",
    "label_list.sort()  # sort it for determinism\n",
    "num_labels = len(label_list)  # needed for model config\n",
    "\n",
    "print(f\"A classification problem with {num_labels} classes: {label_list}\")\n",
    "unique, counts = np.unique(labels, return_counts=True)\n",
    "\n",
    "# find the accuracy of just predicting the majority label\n",
    "prob_majority = float(counts.max())/len(labels)\n",
    "\n",
    "print(f'Calculating only the majority class {np.argmax(counts)} equals {prob_majority*100}%')\n",
    "print(unique, counts)"
   ],
   "metadata": {
    "colab": {
     "base_uri": "https://localhost:8080/"
    },
    "id": "rEg8bA-IMr0-",
    "outputId": "3a6154c8-9eb0-4587-9d51-e6445e10ccd5"
   },
   "execution_count": 18,
   "outputs": [
    {
     "output_type": "stream",
     "name": "stdout",
     "text": [
      "A classification problem with 2 classes: ['no speech' 'speech']\n",
      "Calculating only the majority class 0 equals 60.96769323671497%\n",
      "['no speech' 'speech'] [32308 20684]\n"
     ]
    }
   ]
  },
  {
   "cell_type": "markdown",
   "source": [
    "## Configuration"
   ],
   "metadata": {
    "id": "CUQwYm1INeRp"
   }
  },
  {
   "cell_type": "code",
   "source": [
    "# use the config from the base model (including all parameter)\n",
    "\n",
    "model_name_or_path = \"facebook/wav2vec2-base-960h\"\n",
    "config = AutoConfig.from_pretrained(\n",
    "    model_name_or_path,  # Use facebook/wav2vec2-base-960h as base config\n",
    "    num_labels=num_labels,  # the number of labels discovered above\n",
    "    problem_type='single_label_classification',\n",
    "    # map no-speech and speech to ids\n",
    "    # due to label_list.sort(), no speech will always be 0 and speech 1\n",
    "    label2id={label: i for i, label in enumerate(label_list)},  \n",
    "    id2label={i: label for i, label in enumerate(label_list)},  # reverse of label2id\n",
    "    # finetuning_task=\"wav2vec2_clf\",\n",
    "    final_dropout=0.2\n",
    ")\n",
    "\n",
    "# set pooling to mean\n",
    "pooling_mode = \"mean\"\n",
    "setattr(config, 'pooling_mode', pooling_mode)"
   ],
   "metadata": {
    "colab": {
     "base_uri": "https://localhost:8080/",
     "height": 49,
     "referenced_widgets": [
      "6d2f5fe2e8bd4182829e3669a6eaea9a",
      "934ff0caa68a44e3b71ed037b75c1252",
      "3abac7283161489bb84f58d64873685d",
      "51341af1648d4656a1a2e5c59378654d",
      "73da663473c048d0b3d8dadc296b99f8",
      "606a457906304c87a8469e32ff52f8a2",
      "797a8fe33e6743098bf76d3bbacf82b1",
      "269990963b674f168a322768c0b58c54",
      "49d653a8085b463187a7b84d24d0f31d",
      "8d1313f0a2c840b2b0cb309793decc21",
      "b05c6b5f86e54a11bac5ca8134c9538d"
     ]
    },
    "id": "w6Zp8GwfNYvo",
    "outputId": "a05b41a7-a688-4a67-90b8-0c1660b251f0"
   },
   "execution_count": 19,
   "outputs": [
    {
     "output_type": "display_data",
     "data": {
      "application/vnd.jupyter.widget-view+json": {
       "model_id": "6d2f5fe2e8bd4182829e3669a6eaea9a",
       "version_minor": 0,
       "version_major": 2
      },
      "text/plain": [
       "Downloading:   0%|          | 0.00/1.56k [00:00<?, ?B/s]"
      ]
     },
     "metadata": {}
    }
   ]
  },
  {
   "cell_type": "code",
   "source": [
    "processor = Wav2Vec2Processor.from_pretrained(model_name_or_path,)"
   ],
   "metadata": {
    "colab": {
     "base_uri": "https://localhost:8080/",
     "height": 113,
     "referenced_widgets": [
      "818200c13443426799dd9c2f6af79fbc",
      "a6ab81d0af6442459fe385850e174c44",
      "4c42b8e0899a465ab455cfb14f2b20e2",
      "1dfa2c86ae724ea092a11c2ae8789c3e",
      "d7205548bf534797b30294f9d7813989",
      "3e0c68aa51eb4b9cb945f6745911d0df",
      "7dfebc3155074c34834acb6690b62019",
      "0d34d068766640cb9535d2c857c29b7a",
      "94b53a5f10ca40218f687c4d31ec71a7",
      "010632a0467045768a5e82fb0c41afa4",
      "cd90f3ddf01f44639c315b7c4cb3ba4b",
      "6f87262fe1f944c4afe6fb31c27280a6",
      "8d50fe920a02422a95db2b2792ea5d7f",
      "d9529cd5373a4925bc543a0b363dc6e4",
      "1250b9b1f04f439c83be2a70a08318dc",
      "166f3b23a7e541a2ab8218e980448ddf",
      "ef903f14c4fd481e8665cba7a1181f6c",
      "049311c3b92f40938384446aa589f272",
      "45afbb6e9e3c4b6fae11710d0e2d2c98",
      "45d6e81f3c954c76a3d3f94533ebf259",
      "092a07b949b041e2a14dfa82f399ffa5",
      "5608e8c7ee4c4050b0ba6227b1d05b75",
      "a6bd7b1ea4bf4d61ada87053413853a2",
      "1584adc6ab084039b918e9b0b756e95f",
      "124cd3d7cccc43e4abba22cb45be8716",
      "246b125675f34064bf712fae87026b8b",
      "4cafc5b8a71f4abd85834d5f01068d5a",
      "3e90e70bd5af4cf9a3979a1170ec2be5",
      "b029fb9573794b2b90893e8f6a3f42f5",
      "1a53c2cc30774df692bc0617b32a57a4",
      "dee0fea1c1684075a2f9c41b3b38f20b",
      "77260ec3a53d48a0ad82cb3929427ce1",
      "e6d1659f09d348e7a7be6756c5a4061c"
     ]
    },
    "id": "ETSJbjQTUsf7",
    "outputId": "cf811af6-7451-40bd-8e81-23d812488ce5"
   },
   "execution_count": 20,
   "outputs": [
    {
     "output_type": "display_data",
     "data": {
      "application/vnd.jupyter.widget-view+json": {
       "model_id": "818200c13443426799dd9c2f6af79fbc",
       "version_minor": 0,
       "version_major": 2
      },
      "text/plain": [
       "Downloading:   0%|          | 0.00/163 [00:00<?, ?B/s]"
      ]
     },
     "metadata": {}
    },
    {
     "output_type": "display_data",
     "data": {
      "application/vnd.jupyter.widget-view+json": {
       "model_id": "6f87262fe1f944c4afe6fb31c27280a6",
       "version_minor": 0,
       "version_major": 2
      },
      "text/plain": [
       "Downloading:   0%|          | 0.00/291 [00:00<?, ?B/s]"
      ]
     },
     "metadata": {}
    },
    {
     "output_type": "display_data",
     "data": {
      "application/vnd.jupyter.widget-view+json": {
       "model_id": "a6bd7b1ea4bf4d61ada87053413853a2",
       "version_minor": 0,
       "version_major": 2
      },
      "text/plain": [
       "Downloading:   0%|          | 0.00/85.0 [00:00<?, ?B/s]"
      ]
     },
     "metadata": {}
    }
   ]
  },
  {
   "cell_type": "markdown",
   "source": [
    "## Model"
   ],
   "metadata": {
    "id": "s3bHa44uO1ye"
   }
  },
  {
   "cell_type": "code",
   "source": [
    "@dataclass\n",
    "class SpeechClassifierOutput(ModelOutput):\n",
    "    loss: Optional[torch.FloatTensor] = None\n",
    "    logits: torch.FloatTensor = None\n",
    "    hidden_states: Optional[Tuple[torch.FloatTensor]] = None\n",
    "    attentions: Optional[Tuple[torch.FloatTensor]] = None"
   ],
   "metadata": {
    "id": "9YLKURRMOetK"
   },
   "execution_count": 21,
   "outputs": []
  },
  {
   "cell_type": "code",
   "source": [
    "\n",
    "class Wav2Vec2ClassificationHead(nn.Module):\n",
    "    \"\"\"Head for wav2vec classification task.\"\"\"\n",
    "\n",
    "    def __init__(self, config):\n",
    "        super().__init__()\n",
    "\n",
    "        # Dense Layers\n",
    "        # config.hidden_size is 768 by default\n",
    "        self.dense = nn.Linear(config.hidden_size, config.hidden_size)\n",
    "        self.dense1 = nn.Linear(config.hidden_size, 500)\n",
    "        self.dense2 = nn.Linear(76800, 500)\n",
    "        self.dense3 = nn.Linear(1000, 500)\n",
    "        self.dense4 = nn.Linear(500, 500)\n",
    "        self.dense5 = nn.Linear(500, 256)\n",
    "        self.output = nn.Linear(250, config.num_labels)\n",
    "        \n",
    "\n",
    "        # BatchNormalization (1d and 2d)\n",
    "        self.batchnorm1d1 = nn.BatchNorm1d(config.hidden_size)\n",
    "        self.batchnorm1d2 = nn.BatchNorm1d(500)\n",
    "        self.batchnorm2d1 = nn.BatchNorm2d(20)\n",
    "        self.batchnorm2d2 = nn.BatchNorm2d(50)\n",
    "        self.norm = nn.LayerNorm(500)\n",
    "        # Dropout\n",
    "        self.dropout = nn.Dropout(config.final_dropout)\n",
    "\n",
    "        # Convolution\n",
    "        self.conv1 = nn.Conv2d(in_channels=1, out_channels=20, kernel_size=(5, 5), stride=1, padding=\"same\")\n",
    "        self.conv2 = nn.Conv2d(in_channels=20, out_channels=50, kernel_size=(5, 5), stride=1, padding=\"same\")\n",
    "\n",
    "        # Pooling\n",
    "        self.pool = nn.AvgPool2d(kernel_size=2, stride=2)\n",
    "        \n",
    "        # Activation\n",
    "        self.relu = nn.ReLU()\n",
    "        self.softmax = nn.Softmax(dim=1)\n",
    "        \n",
    "        self.blstm_layer = nn.LSTM(input_size=256, hidden_size=config.hidden_size, batch_first=False, bidirectional=True)\n",
    "\n",
    "        self.flatten = nn.Flatten()\n",
    "\n",
    "    def forward(self, features, rgb_specs, **kwargs):\n",
    "\n",
    "        # features is the representation of the raw audio\n",
    "        x = features\n",
    "        \n",
    "        x = self.dense(x)\n",
    "        x = self.batchnorm1d1(x)\n",
    "        x = self.dropout(x)\n",
    "        \n",
    "        x = self.dense1(x)\n",
    "        x = self.batchnorm1d2(x)\n",
    "        \n",
    "        # spectrogram\n",
    "        x1 = rgb_specs\n",
    "        x1 = x1.reshape(x1.shape[0], 1, x1.shape[1], x1.shape[2])\n",
    "        \n",
    "        x1 = self.conv1(x1)\n",
    "        x1 = self.pool(x1)\n",
    "        x1 = self.batchnorm2d1(x1)\n",
    "        \n",
    "        x1 = self.conv2(x1)\n",
    "        x1 = self.pool(x1)\n",
    "        x1 = self.batchnorm2d2(x1)\n",
    "\n",
    "        x1 = x1.reshape(x1.shape[0], x1.shape[1], x1.shape[2]*x1.shape[3])\n",
    "        x1, (_, _) = self.blstm_layer(x1)\n",
    "        \n",
    "        x1 = self.flatten(x1)\n",
    "        \n",
    "        x1 = self.dense2(x1)\n",
    "        x1 = self.dropout(x1)\n",
    "        x1 = self.relu(x1)\n",
    "        \n",
    "        # concatenate both features\n",
    "        out = torch.cat([x,x1], dim=1)\n",
    "        \n",
    "        out = self.dense3(out)\n",
    "        out = self.dropout(out)\n",
    "        out = self.norm(out)\n",
    "\n",
    "        out = self.dense4(out)\n",
    "        out = self.dropout(out)\n",
    "        out = self.norm(out)\n",
    "\n",
    "        out = self.dense4(out)\n",
    "        out = self.dropout(out)\n",
    "        out = self.norm(out)\n",
    "\n",
    "        out = self.dense4(out)\n",
    "        out = self.dropout(out)\n",
    "        out = self.norm(out)\n",
    "\n",
    "        out = self.dense4(out)\n",
    "        out = self.dropout(out)\n",
    "        out = self.norm(out)\n",
    "        \n",
    "        out = self.dense5(out)\n",
    "        \n",
    "        if labels_per_frame:\n",
    "            out = out.reshape(-1, 128, 2)\n",
    "        else:\n",
    "            out = self.output(out)\n",
    "            out = self.softmax(out)\n",
    "        return out\n",
    "\n",
    "\n",
    "class Wav2Vec2ForSpeechClassification(Wav2Vec2PreTrainedModel):\n",
    "    def __init__(self, config):\n",
    "        super().__init__(config)\n",
    "        self.num_labels = config.num_labels\n",
    "        self.pooling_mode = config.pooling_mode\n",
    "        self.config = config\n",
    "\n",
    "        self.wav2vec2 = Wav2Vec2Model(config)\n",
    "        self.classifier = Wav2Vec2ClassificationHead(config)\n",
    "\n",
    "        self.init_weights()\n",
    "\n",
    "    def freeze_feature_extractor(self):\n",
    "        self.wav2vec2.feature_extractor._freeze_parameters()\n",
    "\n",
    "    def merged_strategy(\n",
    "            self,\n",
    "            hidden_states,\n",
    "            mode=\"mean\"\n",
    "    ):\n",
    "        if mode == \"mean\":\n",
    "            outputs = torch.mean(hidden_states, dim=1)\n",
    "        elif mode == \"sum\":\n",
    "            outputs = torch.sum(hidden_states, dim=1)\n",
    "        elif mode == \"max\":\n",
    "            outputs = torch.max(hidden_states, dim=1)[0]\n",
    "        else:\n",
    "            raise Exception(\n",
    "                \"The pooling method hasn't been defined! Your pooling mode must be one of these ['mean', 'sum', 'max']\")\n",
    "\n",
    "        return outputs\n",
    "\n",
    "    def forward(\n",
    "            self,\n",
    "            input_values, rgb_specs,\n",
    "            attention_mask=None,\n",
    "            output_attentions=None,\n",
    "            output_hidden_states=None,\n",
    "            return_dict=None,\n",
    "            labels=None,\n",
    "    ):\n",
    "        return_dict = return_dict if return_dict is not None else self.config.use_return_dict\n",
    "        outputs = self.wav2vec2(\n",
    "            input_values,\n",
    "            attention_mask=attention_mask,\n",
    "            output_attentions=output_attentions,\n",
    "            output_hidden_states=output_hidden_states,\n",
    "            return_dict=return_dict,\n",
    "        )\n",
    "        hidden_states = outputs[0]\n",
    "        hidden_states = self.merged_strategy(hidden_states, mode=self.pooling_mode)\n",
    "        logits = self.classifier(hidden_states, rgb_specs)\n",
    "\n",
    "        loss = None\n",
    "        if labels is not None:\n",
    "            self.config.problem_type == \"single_label_classification\"\n",
    "            loss_fct = CrossEntropyLoss()  # loss function\n",
    "            loss = loss_fct(logits.view(-1, self.num_labels), labels.view(-1))\n",
    "\n",
    "        if not return_dict:\n",
    "            output = (logits,) + outputs[2:]\n",
    "            return ((loss,) + output) if loss is not None else output\n",
    "\n",
    "        return SpeechClassifierOutput(\n",
    "            loss=loss,\n",
    "            logits=logits,\n",
    "            hidden_states=outputs.hidden_states,\n",
    "            attentions=outputs.attentions,\n",
    "        )\n"
   ],
   "metadata": {
    "id": "hvpm02QKO47C"
   },
   "execution_count": 22,
   "outputs": []
  },
  {
   "cell_type": "markdown",
   "source": [
    "## Training\n",
    "\n",
    "The data is processed so that we are ready to start setting up the training pipeline. We will make use of 🤗's [Trainer](https://huggingface.co/transformers/master/main_classes/trainer.html?highlight=trainer) for which we essentially need to do the following:\n",
    "\n",
    "- Define a data collator. In contrast to most NLP models, Wav2vec-VAD has a much larger input length than output length. *E.g.*, a normal window has 40960 samples but only 128 labels. Given the large input sizes, it is much more efficient to pad the training batches dynamically meaning that all training samples should only be padded to the longest sample in their batch and not the overall longest sample. \n",
    "\n",
    "- Evaluation metric. During training, the model should be evaluated on the accuracy per frame. A `compute_metrics` function is defined accordingly\n",
    "\n",
    "- Load a pretrained checkpoint. We need to load a pretrained checkpoint and configure it correctly for training.\n",
    "\n",
    "- Define the training configuration.\n",
    "\n",
    "After having fine-tuned the model, we will correctly evaluate it on the test data and verify that it has indeed learned to detect speech."
   ],
   "metadata": {
    "id": "LiCLovjQStkP"
   }
  },
  {
   "cell_type": "markdown",
   "source": [
    "### Set-up Trainer\n",
    "\n",
    "Let's start by defining the data collator. The code for the data collator was copied from [this example](https://github.com/huggingface/transformers/blob/9a06b6b11bdfc42eea08fa91d0c737d1863c99e3/examples/research_projects/wav2vec2/run_asr.py#L81).\n",
    "\n",
    "Without going into too many details, in contrast to the common data collators, this data collator treats the `input_values` and `labels` differently and thus applies to separate padding functions on them (again making use of XLSR-Wav2Vec2's context manager). This is necessary because in speech input and output are of different modalities meaning that they should not be treated by the same padding function.\n",
    "Analogous to the common data collators, the padding tokens in the labels with `-100` so that those tokens are **not** taken into account when computing the loss."
   ],
   "metadata": {
    "id": "-jBA3j4iUImH"
   }
  },
  {
   "cell_type": "code",
   "source": [
    "def label_to_id(label, label_list):\n",
    "    \"\"\"\n",
    "    Map labels to the corresponding ID\n",
    "    \"\"\"\n",
    "    if len(label_list) > 0:\n",
    "        label_list = label_list.tolist()\n",
    "        return label_list.index(label) if label in label_list else -1\n",
    "\n",
    "    return label"
   ],
   "metadata": {
    "id": "vppp47diUeYX"
   },
   "execution_count": 23,
   "outputs": []
  },
  {
   "cell_type": "code",
   "source": [
    "@dataclass\n",
    "class DataCollatorCTCWithPadding:\n",
    "    \"\"\"\n",
    "    Data collator that will dynamically pad the inputs received.\n",
    "    Args:\n",
    "        processor (:class:`~transformers.Wav2Vec2Processor`)\n",
    "            The processor used for proccessing the data.\n",
    "        padding (:obj:`bool`, :obj:`str` or :class:`~transformers.tokenization_utils_base.PaddingStrategy`, `optional`, defaults to :obj:`True`):\n",
    "            Select a strategy to pad the returned sequences (according to the model's padding side and padding index)\n",
    "            among:\n",
    "            * :obj:`True` or :obj:`'longest'`: Pad to the longest sequence in the batch (or no padding if only a single\n",
    "              sequence if provided).\n",
    "            * :obj:`'max_length'`: Pad to a maximum length specified with the argument :obj:`max_length` or to the\n",
    "              maximum acceptable input length for the model if that argument is not provided.\n",
    "            * :obj:`False` or :obj:`'do_not_pad'` (default): No padding (i.e., can output a batch with sequences of\n",
    "              different lengths).\n",
    "        max_length (:obj:`int`, `optional`):\n",
    "            Maximum length of the ``input_values`` of the returned list and optionally padding length (see above).\n",
    "        max_length_labels (:obj:`int`, `optional`):\n",
    "            Maximum length of the ``labels`` returned list and optionally padding length (see above).\n",
    "        pad_to_multiple_of (:obj:`int`, `optional`):\n",
    "            If set will pad the sequence to a multiple of the provided value.\n",
    "            This is especially useful to enable the use of Tensor Cores on NVIDIA hardware with compute capability >=\n",
    "            7.5 (Volta).\n",
    "    \"\"\"\n",
    "\n",
    "    processor: Wav2Vec2Processor\n",
    "    padding: Union[bool, str] = True\n",
    "    max_length: Optional[int] = None\n",
    "    max_length_labels: Optional[int] = None\n",
    "    pad_to_multiple_of: Optional[int] = None\n",
    "    pad_to_multiple_of_labels: Optional[int] = None\n",
    "\n",
    "    def __call__(self, features: List[Dict[str, Union[List[int], torch.Tensor]]]) -> Dict[str, torch.Tensor]:\n",
    "        # set all features\n",
    "        input_features = [{\"input_values\": feature[\"input_values\"], 'rgb_specs': feature['rgb_spectrogram']} for feature in features]\n",
    "        # get the labels\n",
    "        label_features = [label_to_id(frame, label_list) for window in features for frame in window[\"labels\"]]\n",
    "        \n",
    "        d_type = torch.long\n",
    "        \n",
    "        batch = self.processor.pad(\n",
    "            input_features,\n",
    "            padding=self.padding,\n",
    "            max_length=self.max_length,\n",
    "            pad_to_multiple_of=self.pad_to_multiple_of,\n",
    "            return_tensors=\"pt\",\n",
    "        )\n",
    "        # reshape labels to frame shape\n",
    "        label_features = np.array(label_features).reshape(-1, 128)\n",
    "        batch[\"labels\"] = torch.tensor(label_features, dtype=d_type)\n",
    "        return batch"
   ],
   "metadata": {
    "id": "ZuMKQE-gSLAQ"
   },
   "execution_count": 24,
   "outputs": []
  },
  {
   "cell_type": "code",
   "source": [
    "data_collator = DataCollatorCTCWithPadding(processor=processor, padding=True)"
   ],
   "metadata": {
    "id": "_OkWVCKhUIGO"
   },
   "execution_count": 25,
   "outputs": []
  },
  {
   "cell_type": "code",
   "source": [
    "import numpy as np\n",
    "from transformers import EvalPrediction\n",
    "\n",
    "\n",
    "def compute_metrics(p: EvalPrediction):\n",
    "    preds = p.predictions.reshape(p.predictions.shape[0]*p.predictions.shape[1], 2)\n",
    "    preds = np.argmax(preds, axis=1)\n",
    "    # reshape labels to remove frame shape\n",
    "    correct_labels = p.label_ids.reshape(p.label_ids.shape[0]*p.label_ids.shape[1])\n",
    "    return {\"accuracy\": (preds == correct_labels).astype(np.float32).mean().item()}"
   ],
   "metadata": {
    "id": "JtvzhHQnUULi"
   },
   "execution_count": 26,
   "outputs": []
  },
  {
   "cell_type": "code",
   "source": [
    "# Create Model\n",
    "model = Wav2Vec2ForSpeechClassification.from_pretrained(\n",
    "    model_name_or_path,\n",
    "    config=config,\n",
    ")"
   ],
   "metadata": {
    "colab": {
     "base_uri": "https://localhost:8080/",
     "height": 160,
     "referenced_widgets": [
      "14eedbb1446b4fd38fbcbe58af07d584",
      "470f9ace33bc43fba86eedaa763856b0",
      "78f2add354004bf69735c7a452f1bcbf",
      "bd701e8ef8dc46f5ac911097bcde660a",
      "7666ee15d9924862aceee7872ecadecc",
      "e7a9e685bd954d5998a54eb723c91d3c",
      "af77d1e591ad41c99aabb8ab17f83cf8",
      "f86f8323f02040309f42d995a0564d0c",
      "38b273320243480da5d35b83c57971b6",
      "04b9b37b4d0a4d7cbfde16db6403d521",
      "06262f8caf0a4eeca221202099c90a8c"
     ]
    },
    "id": "8pUZs-r7U6Oq",
    "outputId": "68ff0486-ab4f-4c9c-b804-39ded489c2d4"
   },
   "execution_count": 27,
   "outputs": [
    {
     "output_type": "display_data",
     "data": {
      "application/vnd.jupyter.widget-view+json": {
       "model_id": "14eedbb1446b4fd38fbcbe58af07d584",
       "version_minor": 0,
       "version_major": 2
      },
      "text/plain": [
       "Downloading:   0%|          | 0.00/360M [00:00<?, ?B/s]"
      ]
     },
     "metadata": {}
    },
    {
     "output_type": "stream",
     "name": "stderr",
     "text": [
      "Some weights of the model checkpoint at facebook/wav2vec2-base-960h were not used when initializing Wav2Vec2ForSpeechClassification: ['lm_head.bias', 'lm_head.weight']\n",
      "- This IS expected if you are initializing Wav2Vec2ForSpeechClassification from the checkpoint of a model trained on another task or with another architecture (e.g. initializing a BertForSequenceClassification model from a BertForPreTraining model).\n",
      "- This IS NOT expected if you are initializing Wav2Vec2ForSpeechClassification from the checkpoint of a model that you expect to be exactly identical (initializing a BertForSequenceClassification model from a BertForSequenceClassification model).\n",
      "Some weights of Wav2Vec2ForSpeechClassification were not initialized from the model checkpoint at facebook/wav2vec2-base-960h and are newly initialized: ['classifier.dense2.weight', 'classifier.blstm_layer.weight_hh_l0_reverse', 'classifier.batchnorm2d2.bias', 'classifier.batchnorm2d1.weight', 'classifier.dense5.bias', 'classifier.batchnorm2d1.running_mean', 'classifier.batchnorm1d2.bias', 'classifier.batchnorm1d1.running_mean', 'wav2vec2.masked_spec_embed', 'classifier.dense1.weight', 'classifier.blstm_layer.bias_ih_l0_reverse', 'classifier.dense.bias', 'classifier.dense5.weight', 'classifier.blstm_layer.bias_hh_l0_reverse', 'classifier.batchnorm1d1.num_batches_tracked', 'classifier.batchnorm1d2.num_batches_tracked', 'classifier.blstm_layer.bias_hh_l0', 'classifier.dense2.bias', 'classifier.dense3.weight', 'classifier.dense3.bias', 'classifier.dense4.weight', 'classifier.batchnorm2d2.weight', 'classifier.batchnorm2d1.num_batches_tracked', 'classifier.dense.weight', 'classifier.dense4.bias', 'classifier.norm.bias', 'classifier.batchnorm1d2.running_var', 'classifier.output.bias', 'classifier.batchnorm1d1.weight', 'classifier.blstm_layer.weight_ih_l0_reverse', 'classifier.conv2.weight', 'classifier.batchnorm2d2.running_var', 'classifier.batchnorm1d2.running_mean', 'classifier.conv1.bias', 'classifier.batchnorm1d1.running_var', 'classifier.blstm_layer.weight_ih_l0', 'classifier.output.weight', 'classifier.batchnorm2d2.running_mean', 'classifier.batchnorm2d1.running_var', 'classifier.batchnorm2d2.num_batches_tracked', 'classifier.blstm_layer.bias_ih_l0', 'classifier.batchnorm2d1.bias', 'classifier.conv1.weight', 'classifier.norm.weight', 'classifier.conv2.bias', 'classifier.blstm_layer.weight_hh_l0', 'classifier.batchnorm1d1.bias', 'classifier.dense1.bias', 'classifier.batchnorm1d2.weight']\n",
      "You should probably TRAIN this model on a down-stream task to be able to use it for predictions and inference.\n"
     ]
    }
   ]
  },
  {
   "cell_type": "markdown",
   "source": [
    "The first component of Wav2Vec2 consists of a stack of CNN layers that are used to extract acoustically meaningful - but contextually independent - features from the raw speech signal. This part of the model has already been sufficiently trained during pretraining and does not need to be fine-tuned anymore. \n",
    "Thus, we can set the `requires_grad` to `False` for all parameters of the *feature extraction* part."
   ],
   "metadata": {
    "id": "fQH16Z9-VF-o"
   }
  },
  {
   "cell_type": "code",
   "source": [
    "model.freeze_feature_extractor()"
   ],
   "metadata": {
    "id": "6QUz03jcU-GK"
   },
   "execution_count": 28,
   "outputs": []
  },
  {
   "cell_type": "markdown",
   "source": [
    "In a final step, we define all parameters related to training. \n",
    "\n",
    "For more explanations on the possible parameters, one can take a look at the [docs](https://huggingface.co/transformers/master/main_classes/trainer.html?highlight=trainer#trainingarguments).\n",
    "\n",
    "**Note**: If one wants to save the trained models in his/her google drive the commented-out `output_dir` can be used instead."
   ],
   "metadata": {
    "id": "nusZFP74VO8k"
   }
  },
  {
   "cell_type": "code",
   "source": [
    "time = datetime.now()\n",
    "model_path = f\"{path_files}Models/wav2vec2_spectrogram_unet_labels_{snr.value}/{time}\"\n",
    "training_args = TrainingArguments(\n",
    "    output_dir=model_path,\n",
    "    per_device_train_batch_size=batch_size,  #256\n",
    "    per_device_eval_batch_size=batch_size,\n",
    "    gradient_accumulation_steps=20,\n",
    "    evaluation_strategy=\"epoch\",\n",
    "    save_strategy=\"epoch\",\n",
    "    load_best_model_at_end=save_best,\n",
    "    num_train_epochs=train_epochs,\n",
    "    fp16=True,\n",
    "    save_steps=1000,\n",
    "    eval_steps=100,\n",
    "    logging_steps=10,\n",
    "    learning_rate=1e-4,\n",
    "    save_total_limit=2,\n",
    ")"
   ],
   "metadata": {
    "id": "gdTogFvZVNUj"
   },
   "execution_count": 29,
   "outputs": []
  },
  {
   "cell_type": "code",
   "source": [
    "if is_apex_available():\n",
    "    from apex import amp\n",
    "\n",
    "if version.parse(torch.__version__) >= version.parse(\"1.6\"):\n",
    "    _is_native_amp_available = True\n",
    "    from torch.cuda.amp import autocast\n",
    "\n",
    "\n",
    "class CTCTrainer(Trainer):\n",
    "    def training_step(self, model: nn.Module, inputs: Dict[str, Union[torch.Tensor, Any]]) -> torch.Tensor:\n",
    "        \"\"\"\n",
    "        Perform a training step on a batch of inputs.\n",
    "\n",
    "        Subclass and override to inject custom behavior.\n",
    "\n",
    "        Args:\n",
    "            model (:obj:`nn.Module`):\n",
    "                The model to train.\n",
    "            inputs (:obj:`Dict[str, Union[torch.Tensor, Any]]`):\n",
    "                The inputs and targets of the model.\n",
    "\n",
    "                The dictionary will be unpacked before being fed to the model. Most models expect the targets under the\n",
    "                argument :obj:`labels`. Check your model's documentation for all accepted arguments.\n",
    "\n",
    "        Return:\n",
    "            :obj:`torch.Tensor`: The tensor with training loss on this batch.\n",
    "        \"\"\"\n",
    "\n",
    "        model.train()\n",
    "        inputs = self._prepare_inputs(inputs)\n",
    "\n",
    "        if self.use_amp:\n",
    "            with autocast():\n",
    "                loss = self.compute_loss(model, inputs)\n",
    "        else:\n",
    "            loss = self.compute_loss(model, inputs)\n",
    "\n",
    "        if self.args.gradient_accumulation_steps > 1:\n",
    "            loss = loss / self.args.gradient_accumulation_steps\n",
    "\n",
    "        if self.use_amp:\n",
    "            self.scaler.scale(loss).backward()\n",
    "        elif self.use_apex:\n",
    "            with amp.scale_loss(loss, self.optimizer) as scaled_loss:\n",
    "                scaled_loss.backward()\n",
    "        elif self.deepspeed:\n",
    "            self.deepspeed.backward(loss)\n",
    "        else:\n",
    "            loss.backward()\n",
    "\n",
    "        return loss.detach()\n"
   ],
   "metadata": {
    "id": "zJZgr2WWVy-o"
   },
   "execution_count": 30,
   "outputs": []
  },
  {
   "cell_type": "code",
   "source": [
    "trainer = CTCTrainer(\n",
    "    model=model,\n",
    "    data_collator=data_collator,\n",
    "    args=training_args,\n",
    "    compute_metrics=compute_metrics,\n",
    "    train_dataset=train_dataset,\n",
    "    eval_dataset=eval_dataset,\n",
    ")"
   ],
   "metadata": {
    "colab": {
     "base_uri": "https://localhost:8080/"
    },
    "id": "K9srV3BJWGvb",
    "outputId": "24633a1e-8242-4126-e16b-2816bebdb2bd"
   },
   "execution_count": 31,
   "outputs": [
    {
     "output_type": "stream",
     "name": "stderr",
     "text": [
      "Using amp half precision backend\n"
     ]
    }
   ]
  },
  {
   "cell_type": "markdown",
   "source": [
    "## Training"
   ],
   "metadata": {
    "id": "DYBqkk6JWUJd"
   }
  },
  {
   "cell_type": "markdown",
   "source": [
    "Training will take between several hours depending on the GPU allocated to this notebook. \n",
    "\n",
    "In case you want to use this google colab to fine-tune your model, you should make sure that your training doesn't stop due to inactivity. A simple hack to prevent this is to paste the following code into the console of this tab (right mouse click -> inspect -> Console tab and insert code)."
   ],
   "metadata": {
    "id": "rJguyjMdWXWF"
   }
  },
  {
   "cell_type": "markdown",
   "source": [
    "```javascript\n",
    "function ConnectButton(){\n",
    "    console.log(\"Connect pushed\"); \n",
    "    document.querySelector(\"#top-toolbar > colab-connect-button\").shadowRoot.querySelector(\"#connect\").click() \n",
    "}\n",
    "setInterval(ConnectButton,60000);\n",
    "```"
   ],
   "metadata": {
    "id": "o9i4YalKWZe_"
   }
  },
  {
   "cell_type": "code",
   "source": [
    "mlflow.end_run()"
   ],
   "metadata": {
    "id": "kFX_w1xTWQuu"
   },
   "execution_count": 32,
   "outputs": []
  },
  {
   "cell_type": "code",
   "source": [
    "trainer.train()"
   ],
   "metadata": {
    "colab": {
     "base_uri": "https://localhost:8080/",
     "height": 1000
    },
    "id": "oV_qNZv2WbfS",
    "outputId": "1e16e08c-8573-4aff-ebbe-12db660e4504"
   },
   "execution_count": 33,
   "outputs": [
    {
     "output_type": "stream",
     "name": "stderr",
     "text": [
      "/usr/local/lib/python3.7/dist-packages/transformers/optimization.py:309: FutureWarning: This implementation of AdamW is deprecated and will be removed in a future version. Use the PyTorch implementation torch.optim.AdamW instead, or set `no_deprecation_warning=True` to disable this warning\n",
      "  FutureWarning,\n",
      "***** Running training *****\n",
      "  Num examples = 966\n",
      "  Num Epochs = 10\n",
      "  Instantaneous batch size per device = 32\n",
      "  Total train batch size (w. parallel, distributed & accumulation) = 640\n",
      "  Gradient Accumulation steps = 20\n",
      "  Total optimization steps = 10\n"
     ]
    },
    {
     "output_type": "display_data",
     "data": {
      "text/html": [
       "\n",
       "    <div>\n",
       "      \n",
       "      <progress value='10' max='10' style='width:300px; height:20px; vertical-align: middle;'></progress>\n",
       "      [10/10 03:18, Epoch 9/10]\n",
       "    </div>\n",
       "    <table border=\"1\" class=\"dataframe\">\n",
       "  <thead>\n",
       " <tr style=\"text-align: left;\">\n",
       "      <th>Epoch</th>\n",
       "      <th>Training Loss</th>\n",
       "      <th>Validation Loss</th>\n",
       "      <th>Accuracy</th>\n",
       "    </tr>\n",
       "  </thead>\n",
       "  <tbody>\n",
       "    <tr>\n",
       "      <td>0</td>\n",
       "      <td>No log</td>\n",
       "      <td>0.690758</td>\n",
       "      <td>0.579201</td>\n",
       "    </tr>\n",
       "    <tr>\n",
       "      <td>1</td>\n",
       "      <td>No log</td>\n",
       "      <td>0.636504</td>\n",
       "      <td>0.639229</td>\n",
       "    </tr>\n",
       "    <tr>\n",
       "      <td>2</td>\n",
       "      <td>No log</td>\n",
       "      <td>0.575838</td>\n",
       "      <td>0.722430</td>\n",
       "    </tr>\n",
       "    <tr>\n",
       "      <td>3</td>\n",
       "      <td>No log</td>\n",
       "      <td>0.550782</td>\n",
       "      <td>0.754189</td>\n",
       "    </tr>\n",
       "    <tr>\n",
       "      <td>4</td>\n",
       "      <td>No log</td>\n",
       "      <td>0.529191</td>\n",
       "      <td>0.781609</td>\n",
       "    </tr>\n",
       "    <tr>\n",
       "      <td>5</td>\n",
       "      <td>No log</td>\n",
       "      <td>0.511526</td>\n",
       "      <td>0.798573</td>\n",
       "    </tr>\n",
       "    <tr>\n",
       "      <td>6</td>\n",
       "      <td>No log</td>\n",
       "      <td>0.488065</td>\n",
       "      <td>0.820407</td>\n",
       "    </tr>\n",
       "    <tr>\n",
       "      <td>7</td>\n",
       "      <td>No log</td>\n",
       "      <td>0.471805</td>\n",
       "      <td>0.829654</td>\n",
       "    </tr>\n",
       "    <tr>\n",
       "      <td>8</td>\n",
       "      <td>No log</td>\n",
       "      <td>0.463706</td>\n",
       "      <td>0.835768</td>\n",
       "    </tr>\n",
       "    <tr>\n",
       "      <td>9</td>\n",
       "      <td>0.921000</td>\n",
       "      <td>0.462405</td>\n",
       "      <td>0.835843</td>\n",
       "    </tr>\n",
       "  </tbody>\n",
       "</table><p>"
      ],
      "text/plain": [
       "<IPython.core.display.HTML object>"
      ]
     },
     "metadata": {}
    },
    {
     "output_type": "stream",
     "name": "stderr",
     "text": [
      "***** Running Evaluation *****\n",
      "  Num examples = 414\n",
      "  Batch size = 32\n",
      "Saving model checkpoint to drive/MyDrive/Master Thesis/Models/wav2vec2_spectrogram_unet_labels_n-05/2022-02-23 11:47:24.688843/checkpoint-1\n",
      "Configuration saved in drive/MyDrive/Master Thesis/Models/wav2vec2_spectrogram_unet_labels_n-05/2022-02-23 11:47:24.688843/checkpoint-1/config.json\n",
      "Model weights saved in drive/MyDrive/Master Thesis/Models/wav2vec2_spectrogram_unet_labels_n-05/2022-02-23 11:47:24.688843/checkpoint-1/pytorch_model.bin\n",
      "***** Running Evaluation *****\n",
      "  Num examples = 414\n",
      "  Batch size = 32\n",
      "Saving model checkpoint to drive/MyDrive/Master Thesis/Models/wav2vec2_spectrogram_unet_labels_n-05/2022-02-23 11:47:24.688843/checkpoint-2\n",
      "Configuration saved in drive/MyDrive/Master Thesis/Models/wav2vec2_spectrogram_unet_labels_n-05/2022-02-23 11:47:24.688843/checkpoint-2/config.json\n",
      "Model weights saved in drive/MyDrive/Master Thesis/Models/wav2vec2_spectrogram_unet_labels_n-05/2022-02-23 11:47:24.688843/checkpoint-2/pytorch_model.bin\n",
      "***** Running Evaluation *****\n",
      "  Num examples = 414\n",
      "  Batch size = 32\n",
      "Saving model checkpoint to drive/MyDrive/Master Thesis/Models/wav2vec2_spectrogram_unet_labels_n-05/2022-02-23 11:47:24.688843/checkpoint-3\n",
      "Configuration saved in drive/MyDrive/Master Thesis/Models/wav2vec2_spectrogram_unet_labels_n-05/2022-02-23 11:47:24.688843/checkpoint-3/config.json\n",
      "Model weights saved in drive/MyDrive/Master Thesis/Models/wav2vec2_spectrogram_unet_labels_n-05/2022-02-23 11:47:24.688843/checkpoint-3/pytorch_model.bin\n",
      "Deleting older checkpoint [drive/MyDrive/Master Thesis/Models/wav2vec2_spectrogram_unet_labels_n-05/2022-02-23 11:47:24.688843/checkpoint-1] due to args.save_total_limit\n",
      "***** Running Evaluation *****\n",
      "  Num examples = 414\n",
      "  Batch size = 32\n",
      "Saving model checkpoint to drive/MyDrive/Master Thesis/Models/wav2vec2_spectrogram_unet_labels_n-05/2022-02-23 11:47:24.688843/checkpoint-4\n",
      "Configuration saved in drive/MyDrive/Master Thesis/Models/wav2vec2_spectrogram_unet_labels_n-05/2022-02-23 11:47:24.688843/checkpoint-4/config.json\n",
      "Model weights saved in drive/MyDrive/Master Thesis/Models/wav2vec2_spectrogram_unet_labels_n-05/2022-02-23 11:47:24.688843/checkpoint-4/pytorch_model.bin\n",
      "Deleting older checkpoint [drive/MyDrive/Master Thesis/Models/wav2vec2_spectrogram_unet_labels_n-05/2022-02-23 11:47:24.688843/checkpoint-2] due to args.save_total_limit\n",
      "***** Running Evaluation *****\n",
      "  Num examples = 414\n",
      "  Batch size = 32\n",
      "Saving model checkpoint to drive/MyDrive/Master Thesis/Models/wav2vec2_spectrogram_unet_labels_n-05/2022-02-23 11:47:24.688843/checkpoint-5\n",
      "Configuration saved in drive/MyDrive/Master Thesis/Models/wav2vec2_spectrogram_unet_labels_n-05/2022-02-23 11:47:24.688843/checkpoint-5/config.json\n",
      "Model weights saved in drive/MyDrive/Master Thesis/Models/wav2vec2_spectrogram_unet_labels_n-05/2022-02-23 11:47:24.688843/checkpoint-5/pytorch_model.bin\n",
      "Deleting older checkpoint [drive/MyDrive/Master Thesis/Models/wav2vec2_spectrogram_unet_labels_n-05/2022-02-23 11:47:24.688843/checkpoint-3] due to args.save_total_limit\n",
      "***** Running Evaluation *****\n",
      "  Num examples = 414\n",
      "  Batch size = 32\n",
      "Saving model checkpoint to drive/MyDrive/Master Thesis/Models/wav2vec2_spectrogram_unet_labels_n-05/2022-02-23 11:47:24.688843/checkpoint-6\n",
      "Configuration saved in drive/MyDrive/Master Thesis/Models/wav2vec2_spectrogram_unet_labels_n-05/2022-02-23 11:47:24.688843/checkpoint-6/config.json\n",
      "Model weights saved in drive/MyDrive/Master Thesis/Models/wav2vec2_spectrogram_unet_labels_n-05/2022-02-23 11:47:24.688843/checkpoint-6/pytorch_model.bin\n",
      "Deleting older checkpoint [drive/MyDrive/Master Thesis/Models/wav2vec2_spectrogram_unet_labels_n-05/2022-02-23 11:47:24.688843/checkpoint-4] due to args.save_total_limit\n",
      "***** Running Evaluation *****\n",
      "  Num examples = 414\n",
      "  Batch size = 32\n",
      "Saving model checkpoint to drive/MyDrive/Master Thesis/Models/wav2vec2_spectrogram_unet_labels_n-05/2022-02-23 11:47:24.688843/checkpoint-7\n",
      "Configuration saved in drive/MyDrive/Master Thesis/Models/wav2vec2_spectrogram_unet_labels_n-05/2022-02-23 11:47:24.688843/checkpoint-7/config.json\n",
      "Model weights saved in drive/MyDrive/Master Thesis/Models/wav2vec2_spectrogram_unet_labels_n-05/2022-02-23 11:47:24.688843/checkpoint-7/pytorch_model.bin\n",
      "Deleting older checkpoint [drive/MyDrive/Master Thesis/Models/wav2vec2_spectrogram_unet_labels_n-05/2022-02-23 11:47:24.688843/checkpoint-5] due to args.save_total_limit\n",
      "***** Running Evaluation *****\n",
      "  Num examples = 414\n",
      "  Batch size = 32\n",
      "Saving model checkpoint to drive/MyDrive/Master Thesis/Models/wav2vec2_spectrogram_unet_labels_n-05/2022-02-23 11:47:24.688843/checkpoint-8\n",
      "Configuration saved in drive/MyDrive/Master Thesis/Models/wav2vec2_spectrogram_unet_labels_n-05/2022-02-23 11:47:24.688843/checkpoint-8/config.json\n",
      "Model weights saved in drive/MyDrive/Master Thesis/Models/wav2vec2_spectrogram_unet_labels_n-05/2022-02-23 11:47:24.688843/checkpoint-8/pytorch_model.bin\n",
      "Deleting older checkpoint [drive/MyDrive/Master Thesis/Models/wav2vec2_spectrogram_unet_labels_n-05/2022-02-23 11:47:24.688843/checkpoint-6] due to args.save_total_limit\n",
      "***** Running Evaluation *****\n",
      "  Num examples = 414\n",
      "  Batch size = 32\n",
      "Saving model checkpoint to drive/MyDrive/Master Thesis/Models/wav2vec2_spectrogram_unet_labels_n-05/2022-02-23 11:47:24.688843/checkpoint-9\n",
      "Configuration saved in drive/MyDrive/Master Thesis/Models/wav2vec2_spectrogram_unet_labels_n-05/2022-02-23 11:47:24.688843/checkpoint-9/config.json\n",
      "Model weights saved in drive/MyDrive/Master Thesis/Models/wav2vec2_spectrogram_unet_labels_n-05/2022-02-23 11:47:24.688843/checkpoint-9/pytorch_model.bin\n",
      "Deleting older checkpoint [drive/MyDrive/Master Thesis/Models/wav2vec2_spectrogram_unet_labels_n-05/2022-02-23 11:47:24.688843/checkpoint-7] due to args.save_total_limit\n",
      "***** Running Evaluation *****\n",
      "  Num examples = 414\n",
      "  Batch size = 32\n",
      "Saving model checkpoint to drive/MyDrive/Master Thesis/Models/wav2vec2_spectrogram_unet_labels_n-05/2022-02-23 11:47:24.688843/checkpoint-10\n",
      "Configuration saved in drive/MyDrive/Master Thesis/Models/wav2vec2_spectrogram_unet_labels_n-05/2022-02-23 11:47:24.688843/checkpoint-10/config.json\n",
      "Model weights saved in drive/MyDrive/Master Thesis/Models/wav2vec2_spectrogram_unet_labels_n-05/2022-02-23 11:47:24.688843/checkpoint-10/pytorch_model.bin\n",
      "Deleting older checkpoint [drive/MyDrive/Master Thesis/Models/wav2vec2_spectrogram_unet_labels_n-05/2022-02-23 11:47:24.688843/checkpoint-8] due to args.save_total_limit\n",
      "\n",
      "\n",
      "Training completed. Do not forget to share your model on huggingface.co/models =)\n",
      "\n",
      "\n",
      "Loading best model from drive/MyDrive/Master Thesis/Models/wav2vec2_spectrogram_unet_labels_n-05/2022-02-23 11:47:24.688843/checkpoint-10 (score: 0.46240484714508057).\n"
     ]
    },
    {
     "output_type": "execute_result",
     "data": {
      "text/plain": [
       "TrainOutput(global_step=10, training_loss=0.9210060119628907, metrics={'train_runtime': 206.8631, 'train_samples_per_second': 46.698, 'train_steps_per_second': 0.048, 'total_flos': 3.233516237704397e+17, 'train_loss': 0.9210060119628907, 'epoch': 9.65})"
      ]
     },
     "metadata": {},
     "execution_count": 33
    }
   ]
  },
  {
   "cell_type": "code",
   "source": [
    "trainer.save_model(model_path+ '/model')"
   ],
   "metadata": {
    "colab": {
     "base_uri": "https://localhost:8080/"
    },
    "id": "wJxT08uuWbrM",
    "outputId": "58d740cd-1bfe-42b3-f047-fe9c803b3418"
   },
   "execution_count": 34,
   "outputs": [
    {
     "output_type": "stream",
     "name": "stderr",
     "text": [
      "Saving model checkpoint to drive/MyDrive/Master Thesis/Models/wav2vec2_spectrogram_unet_labels_n-05/2022-02-23 11:47:24.688843/model\n",
      "Configuration saved in drive/MyDrive/Master Thesis/Models/wav2vec2_spectrogram_unet_labels_n-05/2022-02-23 11:47:24.688843/model/config.json\n",
      "Model weights saved in drive/MyDrive/Master Thesis/Models/wav2vec2_spectrogram_unet_labels_n-05/2022-02-23 11:47:24.688843/model/pytorch_model.bin\n"
     ]
    }
   ]
  },
  {
   "cell_type": "code",
   "source": [
    ""
   ],
   "metadata": {
    "id": "4HJ_WH6wXXRq"
   },
   "execution_count": 34,
   "outputs": []
  },
  {
   "cell_type": "markdown",
   "source": [
    "# Evaluation"
   ],
   "metadata": {
    "id": "EhMbtEjoXPj_"
   }
  },
  {
   "cell_type": "code",
   "source": [
    "# steps = [element['step'] for element in trainer.state.log_history]\n",
    "loss = [element['loss'] for element in trainer.state.log_history if 'loss' in element.keys()]\n",
    "print(len(loss))\n",
    "eval_loss = [element['eval_loss'] for element in trainer.state.log_history if 'eval_loss' in element.keys()]\n",
    "loss = [element['loss'] for element in trainer.state.log_history if 'loss' in element.keys()]\n",
    "acc = [element['eval_accuracy'] for element in trainer.state.log_history if 'eval_accuracy' in element.keys()]\n",
    "print(len(eval_loss))"
   ],
   "metadata": {
    "colab": {
     "base_uri": "https://localhost:8080/"
    },
    "id": "daDVJmDaXMsu",
    "outputId": "b0f69f5d-92f8-4cb4-f54e-cb37a76e4f2d"
   },
   "execution_count": 35,
   "outputs": [
    {
     "output_type": "stream",
     "name": "stdout",
     "text": [
      "1\n",
      "10\n"
     ]
    }
   ]
  },
  {
   "cell_type": "code",
   "source": [
    "plt.plot(loss)\n",
    "plt.savefig(model_path + '/loss.png')\n",
    "plt.show()"
   ],
   "metadata": {
    "id": "tWI_fpvjXQ1B"
   },
   "execution_count": null,
   "outputs": []
  },
  {
   "cell_type": "code",
   "source": [
    "plt.plot(eval_loss)\n",
    "plt.savefig(model_path + '/eval_loss.png')\n",
    "plt.show()"
   ],
   "metadata": {
    "colab": {
     "base_uri": "https://localhost:8080/",
     "height": 267
    },
    "id": "UGZSda0JXozo",
    "outputId": "b30c86e5-eb9a-4eae-d644-3d7c7414238a"
   },
   "execution_count": 37,
   "outputs": [
    {
     "output_type": "display_data",
     "data": {
      "image/png": "[encoded data removed]",
      "text/plain": [
       "<Figure size 432x288 with 1 Axes>"
      ]
     },
     "metadata": {
      "needs_background": "light"
     }
    }
   ]
  },
  {
   "cell_type": "code",
   "source": [
    "plt.plot(acc)\n",
    "plt.savefig(model_path + '/accuracy.png')\n",
    "plt.show()"
   ],
   "metadata": {
    "colab": {
     "base_uri": "https://localhost:8080/",
     "height": 265
    },
    "id": "Jc7zOlyEXpVg",
    "outputId": "41578f60-c3e5-421d-eb59-38c284b7f167"
   },
   "execution_count": 38,
   "outputs": [
    {
     "output_type": "display_data",
     "data": {
      "image/png": "[encoded data removed]",
      "text/plain": [
       "<Figure size 432x288 with 1 Axes>"
      ]
     },
     "metadata": {
      "needs_background": "light"
     }
    }
   ]
  },
  {
   "cell_type": "code",
   "source": [
    "end_test = nr_test_files #len(wav_files_test)\n",
    "x_test, labels_test, frames_pos_test, frames_test = get_feature_and_labels(wav_files_test[0:end_test], parameter)\n",
    "plot_file_distribution(wav_files_test[0:end_test], labels_test)"
   ],
   "metadata": {
    "colab": {
     "base_uri": "https://localhost:8080/",
     "height": 677
    },
    "id": "N2A9iOC1XrGZ",
    "outputId": "665f8532-6355-4860-b531-04e4ce3df501"
   },
   "execution_count": 39,
   "outputs": [
    {
     "output_type": "stream",
     "name": "stderr",
     "text": [
      "100%|██████████| 30/30 [00:42<00:00,  1.40s/it]\n"
     ]
    },
    {
     "output_type": "stream",
     "name": "stdout",
     "text": [
      "Counter({'n-05': 30})\n",
      "Counter({0: 94315, 1: 82325})\n",
      "Counter({'sB': 30})\n",
      "Counter({'CAFE-FOODCOURTB-1': 3, 'CAR-WINUPB-2': 3, 'CAFE-FOODCOURTB-2': 3, 'REVERB-CARPARK-1': 3, 'STREET-KG-1': 3, 'STREET-CITY-2': 3, 'HOME-KITCHEN-1': 2, 'HOME-KITCHEN-2': 2, 'HOME-LIVINGB-2': 2, 'STREET-KG-2': 1, 'REVERB-CARPARK-2': 1, 'CAFE-CAFE-1': 1, 'CAR-WINDOWNB-2': 1, 'STREET-CITY-1': 1, 'CAR-WINDOWNB-1': 1})\n"
     ]
    },
    {
     "output_type": "display_data",
     "data": {
      "image/png": "[encoded data removed]",
      "text/plain": [
       "<Figure size 432x288 with 1 Axes>"
      ]
     },
     "metadata": {
      "needs_background": "light"
     }
    },
    {
     "output_type": "display_data",
     "data": {
      "image/png": "[encoded data removed]",
      "text/plain": [
       "<Figure size 432x288 with 1 Axes>"
      ]
     },
     "metadata": {
      "needs_background": "light"
     }
    }
   ]
  },
  {
   "cell_type": "code",
   "source": [
    "y_test = to_categorical(labels_test)\n",
    "test_dataset = get_processed_frames(frames_test, x_test, y_test)"
   ],
   "metadata": {
    "colab": {
     "base_uri": "https://localhost:8080/"
    },
    "id": "YkeMf7aoXxgB",
    "outputId": "c143b3c7-fd16-46dc-9d42-ad5eb3a5ed98"
   },
   "execution_count": 40,
   "outputs": [
    {
     "output_type": "stream",
     "name": "stderr",
     "text": [
      "loading feature extractor configuration file https://huggingface.co/facebook/wav2vec2-base-960h/resolve/main/preprocessor_config.json from cache at /root/.cache/huggingface/transformers/07e398f6c4f4eb4f676c75befc5ace223491c79cea1109fb4029751892d380a1.bc3155ca0bae3a39fc37fc6d64829c6a765f46480894658bb21c08db6155358d\n",
      "Feature extractor Wav2Vec2FeatureExtractor {\n",
      "  \"do_normalize\": true,\n",
      "  \"feature_extractor_type\": \"Wav2Vec2FeatureExtractor\",\n",
      "  \"feature_size\": 1,\n",
      "  \"padding_side\": \"right\",\n",
      "  \"padding_value\": 0.0,\n",
      "  \"return_attention_mask\": false,\n",
      "  \"sampling_rate\": 16000\n",
      "}\n",
      "\n"
     ]
    },
    {
     "output_type": "stream",
     "name": "stdout",
     "text": [
      "The target sampling rate: 16000\n"
     ]
    },
    {
     "output_type": "stream",
     "name": "stderr",
     "text": [
      "100%|██████████| 1380/1380 [00:00<00:00, 11941.33it/s]\n"
     ]
    }
   ]
  },
  {
   "cell_type": "code",
   "source": [
    "predictions = trainer.predict(test_dataset)"
   ],
   "metadata": {
    "colab": {
     "base_uri": "https://localhost:8080/",
     "height": 92
    },
    "id": "FI_6JIbfX006",
    "outputId": "b59da8ad-0f97-45b4-9e96-473aa9a0e943"
   },
   "execution_count": 41,
   "outputs": [
    {
     "output_type": "stream",
     "name": "stderr",
     "text": [
      "***** Running Prediction *****\n",
      "  Num examples = 1380\n",
      "  Batch size = 32\n"
     ]
    },
    {
     "output_type": "display_data",
     "data": {
      "text/html": [
       "\n",
       "    <div>\n",
       "      \n",
       "      <progress value='44' max='44' style='width:300px; height:20px; vertical-align: middle;'></progress>\n",
       "      [44/44 00:08]\n",
       "    </div>\n",
       "    "
      ],
      "text/plain": [
       "<IPython.core.display.HTML object>"
      ]
     },
     "metadata": {}
    }
   ]
  },
  {
   "cell_type": "code",
   "source": [
    "labels_test = [s['labels'] for s in test_dataset]\n",
    "labels_test = np.array(labels_test)\n",
    "labels_test = labels_test.reshape(-1)\n",
    "labels_test.shape"
   ],
   "metadata": {
    "colab": {
     "base_uri": "https://localhost:8080/"
    },
    "id": "eqBQsecdX5lU",
    "outputId": "9490a133-b274-44ef-c8d1-beb87951472e"
   },
   "execution_count": 42,
   "outputs": [
    {
     "output_type": "execute_result",
     "data": {
      "text/plain": [
       "(176640,)"
      ]
     },
     "metadata": {},
     "execution_count": 42
    }
   ]
  },
  {
   "cell_type": "code",
   "source": [
    "labels_test = np.where(labels_test=='no speech', label_to_id('no speech', label_list), labels_test)\n",
    "labels_test = np.where(labels_test=='speech', label_to_id('speech', label_list), labels_test)\n",
    "labels_test = labels_test.astype('int')"
   ],
   "metadata": {
    "id": "8naps4OkYEHb"
   },
   "execution_count": 43,
   "outputs": []
  },
  {
   "cell_type": "code",
   "source": [
    "predictions_reshaped = predictions.predictions.reshape(-1, 2)\n",
    "predicted_labels = np.argmax(predictions_reshaped, axis=1)"
   ],
   "metadata": {
    "id": "O5p4iWuxYIMO"
   },
   "execution_count": 44,
   "outputs": []
  },
  {
   "cell_type": "code",
   "source": [
    "cf_matrix = confusion_matrix(labels_test, predicted_labels)\n",
    "print(cf_matrix)\n",
    "plt.figure(figsize= (16,9)) \n",
    "sns.heatmap(cf_matrix, annot=True, xticklabels=['no speech', 'speech'], yticklabels=['no speech', 'speech'], fmt='g')\n",
    "plt.ylabel('True label')\n",
    "plt.xlabel('Predicted label')\n",
    "plt.savefig(model_path + '/conf_matrix_no_post.png')\n",
    "plt.show()"
   ],
   "metadata": {
    "colab": {
     "base_uri": "https://localhost:8080/",
     "height": 587
    },
    "id": "Bfd9SykRYUKV",
    "outputId": "146e2d45-8169-4f9c-e38e-3dcf019e8972"
   },
   "execution_count": 45,
   "outputs": [
    {
     "output_type": "stream",
     "name": "stdout",
     "text": [
      "[[84713  9602]\n",
      " [23224 59101]]\n"
     ]
    },
    {
     "output_type": "display_data",
     "data": {
      "image/png": "[encoded data removed]",
      "text/plain": [
       "<Figure size 1152x648 with 2 Axes>"
      ]
     },
     "metadata": {
      "needs_background": "light"
     }
    }
   ]
  },
  {
   "cell_type": "code",
   "source": [
    "# HTER:\n",
    "mr = cf_matrix[1][0]/(sum(cf_matrix[1]))\n",
    "far = cf_matrix[0][1]/(sum(cf_matrix[0]))\n",
    "hter = (mr+far)/2*100\n",
    "hter_string_no_post = f'The HTER is {hter}% for SNR {snr.value}, with MR being {mr} and FAR being {far}'\n",
    "print(hter_string_no_post)"
   ],
   "metadata": {
    "colab": {
     "base_uri": "https://localhost:8080/"
    },
    "id": "AvWtXBfnYY5Q",
    "outputId": "a1a5a9ae-b175-468e-8497-b02441fc2379"
   },
   "execution_count": 46,
   "outputs": [
    {
     "output_type": "stream",
     "name": "stdout",
     "text": [
      "The HTER is 19.19545995492069% for SNR n-05, with MR being 0.2821014272699666 and FAR being 0.10180777182844722\n"
     ]
    }
   ]
  },
  {
   "cell_type": "code",
   "source": [
    ""
   ],
   "metadata": {
    "id": "WTgoTnMCYbSJ"
   },
   "execution_count": 46,
   "outputs": []
  }
 ]
}